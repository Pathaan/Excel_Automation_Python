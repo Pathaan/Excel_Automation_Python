{
 "cells": [
  {
   "cell_type": "markdown",
   "id": "16dc3d0e",
   "metadata": {},
   "source": [
    "# Part 1"
   ]
  },
  {
   "cell_type": "code",
   "execution_count": 1,
   "id": "ce7f2807",
   "metadata": {},
   "outputs": [
    {
     "name": "stdout",
     "output_type": "stream",
     "text": [
      "Requirement already satisfied: xlwings in c:\\python 310\\lib\\site-packages (0.33.15)\n",
      "Requirement already satisfied: pywin32>=224 in c:\\python 310\\lib\\site-packages (from xlwings) (304)\n",
      "Note: you may need to restart the kernel to use updated packages.\n"
     ]
    }
   ],
   "source": [
    "pip install xlwings"
   ]
  },
  {
   "cell_type": "code",
   "execution_count": 2,
   "id": "9cf5e9e3",
   "metadata": {},
   "outputs": [
    {
     "name": "stdout",
     "output_type": "stream",
     "text": [
      "Requirement already satisfied: openpyxl in c:\\python 310\\lib\\site-packages (3.1.5)\n",
      "Requirement already satisfied: et-xmlfile in c:\\python 310\\lib\\site-packages (from openpyxl) (1.1.0)\n",
      "Note: you may need to restart the kernel to use updated packages.\n"
     ]
    }
   ],
   "source": [
    "pip install openpyxl"
   ]
  },
  {
   "cell_type": "code",
   "execution_count": 3,
   "id": "25d5204d",
   "metadata": {},
   "outputs": [],
   "source": [
    "import openpyxl "
   ]
  },
  {
   "cell_type": "code",
   "execution_count": 4,
   "id": "292d9e2b",
   "metadata": {},
   "outputs": [],
   "source": [
    "workbook = openpyxl.Workbook()"
   ]
  },
  {
   "cell_type": "code",
   "execution_count": 5,
   "id": "a3450c8b",
   "metadata": {},
   "outputs": [],
   "source": [
    "sheet1= workbook.active"
   ]
  },
  {
   "cell_type": "code",
   "execution_count": 6,
   "id": "49035568",
   "metadata": {},
   "outputs": [],
   "source": [
    "sheet1['A1']=\"Hello\""
   ]
  },
  {
   "cell_type": "code",
   "execution_count": 7,
   "id": "9fa53f52",
   "metadata": {},
   "outputs": [],
   "source": [
    "sheet1['A2']='Hi'\n",
    "workbook.save(\"sample.xlsx\")"
   ]
  },
  {
   "cell_type": "code",
   "execution_count": 8,
   "id": "b50ea7cd",
   "metadata": {},
   "outputs": [
    {
     "data": {
      "text/plain": [
       "['.ipynb_checkpoints',\n",
       " 'amazon.xlsx',\n",
       " 'customer.xlsx',\n",
       " 'excel_automation.ipynb',\n",
       " 'P_month_mode.xlsx',\n",
       " 'Random Sales Data.xlsx',\n",
       " 'saleq.xlsx',\n",
       " 'sample.xlsx',\n",
       " 'source.xlsx',\n",
       " 'source2.xlsx',\n",
       " 'superstore.xlsx',\n",
       " 'superstore_formula.xlsx',\n",
       " 'superstore_pivot3.xlsx',\n",
       " 'superstore_pivot_table1.xlsx',\n",
       " 'withdate.xlsx']"
      ]
     },
     "execution_count": 8,
     "metadata": {},
     "output_type": "execute_result"
    }
   ],
   "source": [
    "import os\n",
    "os.listdir()"
   ]
  },
  {
   "cell_type": "code",
   "execution_count": 9,
   "id": "6c4e86db",
   "metadata": {},
   "outputs": [],
   "source": [
    "# Loading a workbook and readng a excel file"
   ]
  },
  {
   "cell_type": "code",
   "execution_count": 10,
   "id": "23e09c53",
   "metadata": {},
   "outputs": [],
   "source": [
    "wkb= openpyxl.load_workbook(\"amazon.xlsx\") # wkb and workbook are same we can write vice versa "
   ]
  },
  {
   "cell_type": "code",
   "execution_count": 11,
   "id": "c24dd21d",
   "metadata": {},
   "outputs": [
    {
     "name": "stdout",
     "output_type": "stream",
     "text": [
      "product_id\n"
     ]
    }
   ],
   "source": [
    "sheet= wkb['amazon']\n",
    "cell_value = sheet['A1'].value\n",
    "print(cell_value)"
   ]
  },
  {
   "cell_type": "code",
   "execution_count": 12,
   "id": "34dc3039",
   "metadata": {},
   "outputs": [
    {
     "data": {
      "text/plain": [
       "'product_name'"
      ]
     },
     "execution_count": 12,
     "metadata": {},
     "output_type": "execute_result"
    }
   ],
   "source": [
    "sheet['B1'].value"
   ]
  },
  {
   "cell_type": "code",
   "execution_count": 13,
   "id": "412d637a",
   "metadata": {},
   "outputs": [],
   "source": [
    "#  Adding a new worksheet\n",
    "wkb1=openpyxl.load_workbook(\"sample.xlsx\")"
   ]
  },
  {
   "cell_type": "code",
   "execution_count": 14,
   "id": "0623d507",
   "metadata": {},
   "outputs": [],
   "source": [
    "new_sheet=wkb1.create_sheet(\"Python\")\n",
    "new_sheet['A1'].value='How are you?'\n",
    "wkb1.save(\"sample.xlsx\")"
   ]
  },
  {
   "cell_type": "code",
   "execution_count": 15,
   "id": "dfc7b041",
   "metadata": {},
   "outputs": [
    {
     "name": "stdout",
     "output_type": "stream",
     "text": [
      "<Worksheet \"Sheet\">\n"
     ]
    }
   ],
   "source": [
    "wb=openpyxl.load_workbook('sample.xlsx')\n",
    "ws=wb.active\n",
    "print(ws)"
   ]
  },
  {
   "cell_type": "code",
   "execution_count": 16,
   "id": "5e19b219",
   "metadata": {},
   "outputs": [
    {
     "name": "stdout",
     "output_type": "stream",
     "text": [
      "sales analytics\n"
     ]
    }
   ],
   "source": [
    "ws.title ='sales analytics'\n",
    "ws.sheet_properties.tabColor='111111'\n",
    "print(ws.title)\n",
    "wb.save(\"sample.xlsx\")"
   ]
  },
  {
   "cell_type": "code",
   "execution_count": 17,
   "id": "6fd3b9be",
   "metadata": {},
   "outputs": [],
   "source": [
    "# Adding data into the worksheet"
   ]
  },
  {
   "cell_type": "code",
   "execution_count": 18,
   "id": "545f59cd",
   "metadata": {},
   "outputs": [],
   "source": [
    "ls=[\"aman\", \"Bala\", \"Bani\", 'Dhoni']"
   ]
  },
  {
   "cell_type": "code",
   "execution_count": 19,
   "id": "2ecca4bd",
   "metadata": {},
   "outputs": [],
   "source": [
    "for i in range(0,len(ls)):\n",
    "    ws['B'+str(i+1)].value=ls[i]"
   ]
  },
  {
   "cell_type": "code",
   "execution_count": 20,
   "id": "de188f83",
   "metadata": {},
   "outputs": [],
   "source": [
    "# Another Way\n",
    "for i in range(0,len(ls)):\n",
    "    ws.cell(row=i+1, column=5).value=ls[i]"
   ]
  },
  {
   "cell_type": "code",
   "execution_count": 21,
   "id": "619abe0a",
   "metadata": {},
   "outputs": [],
   "source": [
    "wb.save(\"sample.xlsx\")"
   ]
  },
  {
   "cell_type": "code",
   "execution_count": 22,
   "id": "bead5f66",
   "metadata": {},
   "outputs": [
    {
     "data": {
      "text/plain": [
       "'sales analytics'"
      ]
     },
     "execution_count": 22,
     "metadata": {},
     "output_type": "execute_result"
    }
   ],
   "source": [
    "ws.title"
   ]
  },
  {
   "cell_type": "code",
   "execution_count": 23,
   "id": "a6f2245b",
   "metadata": {},
   "outputs": [
    {
     "name": "stdout",
     "output_type": "stream",
     "text": [
      "Hello\n",
      "Hi\n",
      "None\n",
      "None\n"
     ]
    }
   ],
   "source": [
    "for col in ws['A']:\n",
    "    print(col.value)"
   ]
  },
  {
   "cell_type": "code",
   "execution_count": 24,
   "id": "29a787b1",
   "metadata": {},
   "outputs": [
    {
     "name": "stdout",
     "output_type": "stream",
     "text": [
      "aman\n",
      "Bala\n",
      "Bani\n",
      "Dhoni\n"
     ]
    }
   ],
   "source": [
    "for col in ws['B']:\n",
    "    print(col.value)"
   ]
  },
  {
   "cell_type": "code",
   "execution_count": 25,
   "id": "44886def",
   "metadata": {},
   "outputs": [
    {
     "name": "stdout",
     "output_type": "stream",
     "text": [
      "(<Cell 'sales analytics'.A1>, <Cell 'sales analytics'.A2>, <Cell 'sales analytics'.A3>, <Cell 'sales analytics'.A4>)\n",
      "(<Cell 'sales analytics'.B1>, <Cell 'sales analytics'.B2>, <Cell 'sales analytics'.B3>, <Cell 'sales analytics'.B4>)\n"
     ]
    }
   ],
   "source": [
    "for col in ws['A':'B']:\n",
    "    print(col)"
   ]
  },
  {
   "cell_type": "code",
   "execution_count": 26,
   "id": "3b947800",
   "metadata": {},
   "outputs": [
    {
     "name": "stdout",
     "output_type": "stream",
     "text": [
      "(<Cell 'sales analytics'.A1>, <Cell 'sales analytics'.B1>)\n",
      "(<Cell 'sales analytics'.A2>, <Cell 'sales analytics'.B2>)\n",
      "(<Cell 'sales analytics'.A3>, <Cell 'sales analytics'.B3>)\n",
      "(<Cell 'sales analytics'.A4>, <Cell 'sales analytics'.B4>)\n",
      "(<Cell 'sales analytics'.A5>, <Cell 'sales analytics'.B5>)\n"
     ]
    }
   ],
   "source": [
    "for row in ws.iter_rows(min_row=1, max_row=5, min_col=1, max_col=2):\n",
    "    print(row)"
   ]
  },
  {
   "cell_type": "code",
   "execution_count": 27,
   "id": "3235b198",
   "metadata": {},
   "outputs": [
    {
     "name": "stdout",
     "output_type": "stream",
     "text": [
      "('Hello', 'aman')\n",
      "('Hi', 'Bala')\n",
      "(None, 'Bani')\n",
      "(None, 'Dhoni')\n",
      "(None, None)\n"
     ]
    }
   ],
   "source": [
    "for row in ws.iter_rows(min_row=1, max_row=5, min_col=1, max_col=2, values_only=True):\n",
    "    print(row)"
   ]
  },
  {
   "cell_type": "code",
   "execution_count": 28,
   "id": "00a77450",
   "metadata": {},
   "outputs": [
    {
     "name": "stdout",
     "output_type": "stream",
     "text": [
      "('Hello', 'aman')\n",
      "('Hi', 'Bala')\n",
      "(None, 'Bani')\n",
      "(None, 'Dhoni')\n",
      "(None, None)\n"
     ]
    }
   ],
   "source": [
    "for col in ws.iter_rows(min_row=1, max_row=5, min_col=1, max_col=2, values_only=True):\n",
    "    print(col)"
   ]
  },
  {
   "cell_type": "markdown",
   "id": "320597b6",
   "metadata": {},
   "source": [
    "# Part 2"
   ]
  },
  {
   "cell_type": "code",
   "execution_count": 29,
   "id": "c352b121",
   "metadata": {},
   "outputs": [],
   "source": [
    "import openpyxl as xl\n",
    "filename= 'superstore.xlsx'"
   ]
  },
  {
   "cell_type": "code",
   "execution_count": 30,
   "id": "ced51957",
   "metadata": {},
   "outputs": [],
   "source": [
    "# reading the file in read_only mode: read_only\n",
    "# Ignore formules whle loadng a workbook: data_only"
   ]
  },
  {
   "cell_type": "code",
   "execution_count": 31,
   "id": "78361824",
   "metadata": {},
   "outputs": [
    {
     "name": "stdout",
     "output_type": "stream",
     "text": [
      "CPU times: total: 3.56 s\n",
      "Wall time: 4.03 s\n"
     ]
    }
   ],
   "source": [
    "%%time\n",
    "df= xl.load_workbook(filename)"
   ]
  },
  {
   "cell_type": "code",
   "execution_count": 32,
   "id": "a39364aa",
   "metadata": {},
   "outputs": [
    {
     "name": "stdout",
     "output_type": "stream",
     "text": [
      "CPU times: total: 0 ns\n",
      "Wall time: 15.9 ms\n"
     ]
    }
   ],
   "source": [
    "%%time\n",
    "df=xl.load_workbook(filename, read_only=True)"
   ]
  },
  {
   "cell_type": "code",
   "execution_count": 33,
   "id": "38ddc132",
   "metadata": {},
   "outputs": [
    {
     "data": {
      "text/plain": [
       "['Orders', 'sheet41', 'sheet4', 'People', 'eDB', 'eDB1']"
      ]
     },
     "execution_count": 33,
     "metadata": {},
     "output_type": "execute_result"
    }
   ],
   "source": [
    "#print worksheet name\n",
    "df.sheetnames"
   ]
  },
  {
   "cell_type": "code",
   "execution_count": 34,
   "id": "1b2d3577",
   "metadata": {},
   "outputs": [
    {
     "name": "stdout",
     "output_type": "stream",
     "text": [
      "['active', 'calculation', 'chartsheets', 'close', 'encoding', 'epoch', 'index', 'path', 'properties', 'rels', 'remove', 'save', 'security', 'sheetnames', 'template', 'views', 'worksheets']\n"
     ]
    }
   ],
   "source": [
    "print([i for i in dir(df) if \"_\" not in i])"
   ]
  },
  {
   "cell_type": "code",
   "execution_count": 35,
   "id": "1a2e51d6",
   "metadata": {},
   "outputs": [
    {
     "name": "stdout",
     "output_type": "stream",
     "text": [
      "Orders\n",
      "sheet41\n",
      "sheet4\n",
      "People\n",
      "eDB\n",
      "eDB1\n"
     ]
    }
   ],
   "source": [
    "for sheet in df:\n",
    "    print(sheet.title)"
   ]
  },
  {
   "cell_type": "code",
   "execution_count": 36,
   "id": "67d0bcc3",
   "metadata": {},
   "outputs": [],
   "source": [
    "# How we can set an object in  openpyxl\n",
    "orders= df['Orders']"
   ]
  },
  {
   "cell_type": "code",
   "execution_count": 37,
   "id": "27834b1e",
   "metadata": {},
   "outputs": [
    {
     "data": {
      "text/plain": [
       "openpyxl.worksheet._read_only.ReadOnlyWorksheet"
      ]
     },
     "execution_count": 37,
     "metadata": {},
     "output_type": "execute_result"
    }
   ],
   "source": [
    "type(orders)"
   ]
  },
  {
   "cell_type": "code",
   "execution_count": 38,
   "id": "8fb7a654",
   "metadata": {},
   "outputs": [
    {
     "name": "stdout",
     "output_type": "stream",
     "text": [
      "\n",
      "        Returns a cell object based on the given coordinates.\n",
      "\n",
      "        Usage: cell(row=15, column=1, value=5)\n",
      "\n",
      "        Calling `cell` creates cells in memory when they\n",
      "        are first accessed.\n",
      "\n",
      "        :param row: row index of the cell (e.g. 4)\n",
      "        :type row: int\n",
      "\n",
      "        :param column: column index of the cell (e.g. 3)\n",
      "        :type column: int\n",
      "\n",
      "        :param value: value of the cell (e.g. 5)\n",
      "        :type value: numeric or time or string or bool or none\n",
      "\n",
      "        :rtype: openpyxl.cell.cell.Cell\n",
      "        \n"
     ]
    }
   ],
   "source": [
    "print(orders.cell.__doc__)"
   ]
  },
  {
   "cell_type": "code",
   "execution_count": 39,
   "id": "9fdd3d27",
   "metadata": {},
   "outputs": [
    {
     "data": {
      "text/plain": [
       "'Darrin Van Huff'"
      ]
     },
     "execution_count": 39,
     "metadata": {},
     "output_type": "execute_result"
    }
   ],
   "source": [
    "orders.cell(4,7).value"
   ]
  },
  {
   "cell_type": "code",
   "execution_count": 40,
   "id": "19eddcd6",
   "metadata": {},
   "outputs": [],
   "source": [
    "## Values Only\n"
   ]
  },
  {
   "cell_type": "code",
   "execution_count": 41,
   "id": "dcbff249",
   "metadata": {},
   "outputs": [
    {
     "name": "stdout",
     "output_type": "stream",
     "text": [
      "Row ID Order ID Order Date Ship Date Ship Mode Customer ID Customer Name Segment Country City State Postal Code Region Product ID Category Sub-Category Product Name Sales before Discount Sales After Discount Quantity Discount Profit ______\n",
      "\n",
      "1 CA-2016-152156 2016-11-08 00:00:00 2016-11-11 00:00:00 Second Class CG-12520 Claire Gute Consumer United States Henderson Kentucky 42420 South FUR-BO-10001798 Furniture Bookcases Bush Somerset Collection Bookcase 261.96 261.96 2 0 41.9136 ______\n",
      "\n",
      "2 CA-2016-152156 2016-11-08 00:00:00 2016-11-11 00:00:00 Second Class CG-12520 Claire Gute Consumer United States Henderson Kentucky 42420 South FUR-CH-10000454 Furniture Chairs Hon Deluxe Fabric Upholstered Stacking Chairs, Rounded Back 731.9399999999999 731.9399999999999 3 0 219.582 ______\n",
      "\n",
      "3 CA-2016-138688 2016-06-12 00:00:00 2016-06-16 00:00:00 Second Class DV-13045 Darrin Van Huff Corporate United States Los Angeles California 90036 West OFF-LA-10000240 Office Supplies Labels Self-Adhesive Address Labels for Typewriters by Universal 14.62 14.62 2 0 6.8714 ______\n",
      "\n"
     ]
    }
   ],
   "source": [
    "j = 0\n",
    "for row in orders.values:\n",
    "    j = j+1\n",
    "    for value in row:\n",
    "        print(value, end= \" \")\n",
    "    print(\"______\")\n",
    "    print()\n",
    "    if j==4:\n",
    "         break"
   ]
  },
  {
   "cell_type": "code",
   "execution_count": 42,
   "id": "3961cd45",
   "metadata": {},
   "outputs": [],
   "source": [
    "# Inserting a Sheet\n"
   ]
  },
  {
   "cell_type": "code",
   "execution_count": 43,
   "id": "490d7314",
   "metadata": {},
   "outputs": [
    {
     "ename": "ReadOnlyWorkbookException",
     "evalue": "Cannot create new sheet in a read-only workbook",
     "output_type": "error",
     "traceback": [
      "\u001b[1;31m---------------------------------------------------------------------------\u001b[0m",
      "\u001b[1;31mReadOnlyWorkbookException\u001b[0m                 Traceback (most recent call last)",
      "Input \u001b[1;32mIn [43]\u001b[0m, in \u001b[0;36m<cell line: 1>\u001b[1;34m()\u001b[0m\n\u001b[1;32m----> 1\u001b[0m ws1\u001b[38;5;241m=\u001b[39m \u001b[43mdf\u001b[49m\u001b[38;5;241;43m.\u001b[39;49m\u001b[43mcreate_sheet\u001b[49m\u001b[43m(\u001b[49m\u001b[38;5;124;43m\"\u001b[39;49m\u001b[38;5;124;43mdf2\u001b[39;49m\u001b[38;5;124;43m\"\u001b[39;49m\u001b[43m)\u001b[49m\n",
      "File \u001b[1;32mC:\\Python 310\\lib\\site-packages\\openpyxl\\workbook\\workbook.py:194\u001b[0m, in \u001b[0;36mWorkbook.create_sheet\u001b[1;34m(self, title, index)\u001b[0m\n\u001b[0;32m    185\u001b[0m \u001b[38;5;250m\u001b[39m\u001b[38;5;124;03m\"\"\"Create a worksheet (at an optional index).\u001b[39;00m\n\u001b[0;32m    186\u001b[0m \n\u001b[0;32m    187\u001b[0m \u001b[38;5;124;03m:param title: optional title of the sheet\u001b[39;00m\n\u001b[1;32m   (...)\u001b[0m\n\u001b[0;32m    191\u001b[0m \n\u001b[0;32m    192\u001b[0m \u001b[38;5;124;03m\"\"\"\u001b[39;00m\n\u001b[0;32m    193\u001b[0m \u001b[38;5;28;01mif\u001b[39;00m \u001b[38;5;28mself\u001b[39m\u001b[38;5;241m.\u001b[39mread_only:\n\u001b[1;32m--> 194\u001b[0m     \u001b[38;5;28;01mraise\u001b[39;00m ReadOnlyWorkbookException(\u001b[38;5;124m'\u001b[39m\u001b[38;5;124mCannot create new sheet in a read-only workbook\u001b[39m\u001b[38;5;124m'\u001b[39m)\n\u001b[0;32m    196\u001b[0m \u001b[38;5;28;01mif\u001b[39;00m \u001b[38;5;28mself\u001b[39m\u001b[38;5;241m.\u001b[39mwrite_only :\n\u001b[0;32m    197\u001b[0m     new_ws \u001b[38;5;241m=\u001b[39m WriteOnlyWorksheet(parent\u001b[38;5;241m=\u001b[39m\u001b[38;5;28mself\u001b[39m, title\u001b[38;5;241m=\u001b[39mtitle)\n",
      "\u001b[1;31mReadOnlyWorkbookException\u001b[0m: Cannot create new sheet in a read-only workbook"
     ]
    }
   ],
   "source": [
    "ws1= df.create_sheet(\"df2\") \n",
    "# here we get error because we open df in read_only mode \n"
   ]
  },
  {
   "cell_type": "code",
   "execution_count": 44,
   "id": "acb2d412",
   "metadata": {},
   "outputs": [],
   "source": [
    "df2= xl.load_workbook(filename, data_only=True)"
   ]
  },
  {
   "cell_type": "code",
   "execution_count": 45,
   "id": "5e73ee45",
   "metadata": {},
   "outputs": [],
   "source": [
    "ws1 = df2.create_sheet(\"eDB\")"
   ]
  },
  {
   "cell_type": "code",
   "execution_count": 46,
   "id": "2398e2b0",
   "metadata": {},
   "outputs": [
    {
     "data": {
      "text/plain": [
       "'eDB2'"
      ]
     },
     "execution_count": 46,
     "metadata": {},
     "output_type": "execute_result"
    }
   ],
   "source": [
    "ws1.title"
   ]
  },
  {
   "cell_type": "code",
   "execution_count": 47,
   "id": "9b9c8e17",
   "metadata": {},
   "outputs": [
    {
     "data": {
      "text/plain": [
       "['Orders', 'sheet41', 'sheet4', 'People', 'eDB', 'eDB1', 'eDB2']"
      ]
     },
     "execution_count": 47,
     "metadata": {},
     "output_type": "execute_result"
    }
   ],
   "source": [
    "df2.sheetnames"
   ]
  },
  {
   "cell_type": "code",
   "execution_count": 48,
   "id": "f896d662",
   "metadata": {},
   "outputs": [
    {
     "data": {
      "text/plain": [
       "['Orders', 'sheet41', 'sheet4', 'People', 'eDB', 'eDB1']"
      ]
     },
     "execution_count": 48,
     "metadata": {},
     "output_type": "execute_result"
    }
   ],
   "source": [
    "df.sheetnames"
   ]
  },
  {
   "cell_type": "code",
   "execution_count": 49,
   "id": "37ded3fd",
   "metadata": {},
   "outputs": [],
   "source": [
    "#Addng a worksheet base on index"
   ]
  },
  {
   "cell_type": "code",
   "execution_count": 50,
   "id": "dd73a348",
   "metadata": {},
   "outputs": [],
   "source": [
    "ws2 = df2.create_sheet(\"sheet4\",1)"
   ]
  },
  {
   "cell_type": "code",
   "execution_count": 51,
   "id": "49a41c9a",
   "metadata": {},
   "outputs": [
    {
     "data": {
      "text/plain": [
       "'sheet42'"
      ]
     },
     "execution_count": 51,
     "metadata": {},
     "output_type": "execute_result"
    }
   ],
   "source": [
    "ws2.title"
   ]
  },
  {
   "cell_type": "code",
   "execution_count": 52,
   "id": "2dd0b70b",
   "metadata": {},
   "outputs": [
    {
     "data": {
      "text/plain": [
       "['Orders', 'sheet42', 'sheet41', 'sheet4', 'People', 'eDB', 'eDB1', 'eDB2']"
      ]
     },
     "execution_count": 52,
     "metadata": {},
     "output_type": "execute_result"
    }
   ],
   "source": [
    "df2.sheetnames"
   ]
  },
  {
   "cell_type": "code",
   "execution_count": 53,
   "id": "ea10f2e5",
   "metadata": {},
   "outputs": [],
   "source": [
    "df2.save(filename)"
   ]
  },
  {
   "cell_type": "code",
   "execution_count": 54,
   "id": "aa9075bf",
   "metadata": {},
   "outputs": [],
   "source": [
    "wkb2 = xl.Workbook(\"source.xlsx\")"
   ]
  },
  {
   "cell_type": "code",
   "execution_count": 55,
   "id": "cd1cddfa",
   "metadata": {},
   "outputs": [],
   "source": [
    "test1= wkb2.create_sheet(\"Test1\") #Insert at the End by default\n",
    "test2 = wkb2.create_sheet(\"Test2\", 0) # Insert at the first position\n"
   ]
  },
  {
   "cell_type": "code",
   "execution_count": 56,
   "id": "5d0583fd",
   "metadata": {},
   "outputs": [
    {
     "data": {
      "text/plain": [
       "['Test2', 'Test1']"
      ]
     },
     "execution_count": 56,
     "metadata": {},
     "output_type": "execute_result"
    }
   ],
   "source": [
    "wkb2.sheetnames"
   ]
  },
  {
   "cell_type": "code",
   "execution_count": 57,
   "id": "323d61f2",
   "metadata": {},
   "outputs": [],
   "source": [
    "# How we can renaming the worksheet"
   ]
  },
  {
   "cell_type": "code",
   "execution_count": 58,
   "id": "66ca8324",
   "metadata": {},
   "outputs": [],
   "source": [
    "wkb2.create_sheet(\"Text\")\n",
    "wkb2.save(\"source.xlsx\")\n",
    "wkb2.close()"
   ]
  },
  {
   "cell_type": "code",
   "execution_count": 59,
   "id": "4d724686",
   "metadata": {},
   "outputs": [
    {
     "name": "stdout",
     "output_type": "stream",
     "text": [
      "['Test2', 'Test1', 'Text']\n"
     ]
    }
   ],
   "source": [
    "f1= xl.load_workbook(\"source.xlsx\", data_only=True)\n",
    "print(f1.sheetnames)"
   ]
  },
  {
   "cell_type": "code",
   "execution_count": 60,
   "id": "a429cc8b",
   "metadata": {},
   "outputs": [],
   "source": [
    "for sht in f1.sheetnames:\n",
    "    if sht.startswith(\"T\"):\n",
    "        f1[sht].title='Sales' +str(i)\n",
    "        i= i+1\n",
    "f1.save(\"source2.xlsx\")\n",
    "f1.close()\n",
    "        "
   ]
  },
  {
   "cell_type": "code",
   "execution_count": 61,
   "id": "5bcfa8f4",
   "metadata": {},
   "outputs": [],
   "source": [
    "#Delete the specific worksheet"
   ]
  },
  {
   "cell_type": "code",
   "execution_count": 62,
   "id": "b20fc954",
   "metadata": {},
   "outputs": [],
   "source": [
    "f2= xl.load_workbook(\"source2.xlsx\", data_only=True)\n",
    "del f2[\"Sales5\"]"
   ]
  },
  {
   "cell_type": "code",
   "execution_count": 63,
   "id": "32a891f9",
   "metadata": {},
   "outputs": [
    {
     "data": {
      "text/plain": [
       "['Sales3', 'Sales4']"
      ]
     },
     "execution_count": 63,
     "metadata": {},
     "output_type": "execute_result"
    }
   ],
   "source": [
    "f2.sheetnames"
   ]
  },
  {
   "cell_type": "code",
   "execution_count": 64,
   "id": "0499ba2b",
   "metadata": {},
   "outputs": [],
   "source": [
    "# How we can get an index of a worksheet"
   ]
  },
  {
   "cell_type": "code",
   "execution_count": 65,
   "id": "4466dace",
   "metadata": {},
   "outputs": [
    {
     "data": {
      "text/plain": [
       "1"
      ]
     },
     "execution_count": 65,
     "metadata": {},
     "output_type": "execute_result"
    }
   ],
   "source": [
    "f2.sheetnames.index(\"Sales4\")"
   ]
  },
  {
   "cell_type": "code",
   "execution_count": 66,
   "id": "aaa91b81",
   "metadata": {},
   "outputs": [],
   "source": [
    "# How to move the worksheet"
   ]
  },
  {
   "cell_type": "code",
   "execution_count": 67,
   "id": "bfafc513",
   "metadata": {},
   "outputs": [],
   "source": [
    "f2.move_sheet(sheet=\"Sales4\", offset=-1)"
   ]
  },
  {
   "cell_type": "code",
   "execution_count": 68,
   "id": "7b042612",
   "metadata": {},
   "outputs": [
    {
     "data": {
      "text/plain": [
       "['Sales4', 'Sales3']"
      ]
     },
     "execution_count": 68,
     "metadata": {},
     "output_type": "execute_result"
    }
   ],
   "source": [
    "f2.sheetnames"
   ]
  },
  {
   "cell_type": "code",
   "execution_count": 69,
   "id": "f1fb69b5",
   "metadata": {},
   "outputs": [],
   "source": [
    "f2.save(\"source2.xlsx\")"
   ]
  },
  {
   "cell_type": "code",
   "execution_count": 70,
   "id": "f336096e",
   "metadata": {},
   "outputs": [],
   "source": [
    "# Copy the worksheet"
   ]
  },
  {
   "cell_type": "code",
   "execution_count": 71,
   "id": "a5742ec1",
   "metadata": {},
   "outputs": [
    {
     "data": {
      "text/plain": [
       "<Worksheet \"Sales3 Copy\">"
      ]
     },
     "execution_count": 71,
     "metadata": {},
     "output_type": "execute_result"
    }
   ],
   "source": [
    "f2.copy_worksheet(f2[\"Sales3\"])"
   ]
  },
  {
   "cell_type": "code",
   "execution_count": 72,
   "id": "b5162a83",
   "metadata": {},
   "outputs": [],
   "source": [
    "f2.save(\"source2.xlsx\")"
   ]
  },
  {
   "cell_type": "markdown",
   "id": "f7f0f436",
   "metadata": {},
   "source": [
    "# Part 3"
   ]
  },
  {
   "cell_type": "code",
   "execution_count": 73,
   "id": "a8a1c0e4",
   "metadata": {},
   "outputs": [],
   "source": [
    "from openpyxl import load_workbook\n",
    "import os "
   ]
  },
  {
   "cell_type": "code",
   "execution_count": 74,
   "id": "bc90549e",
   "metadata": {},
   "outputs": [
    {
     "data": {
      "text/plain": [
       "['.ipynb_checkpoints',\n",
       " 'amazon.xlsx',\n",
       " 'customer.xlsx',\n",
       " 'excel_automation.ipynb',\n",
       " 'P_month_mode.xlsx',\n",
       " 'Random Sales Data.xlsx',\n",
       " 'saleq.xlsx',\n",
       " 'sample.xlsx',\n",
       " 'source.xlsx',\n",
       " 'source2.xlsx',\n",
       " 'superstore.xlsx',\n",
       " 'superstore_formula.xlsx',\n",
       " 'superstore_pivot3.xlsx',\n",
       " 'superstore_pivot_table1.xlsx',\n",
       " 'withdate.xlsx']"
      ]
     },
     "execution_count": 74,
     "metadata": {},
     "output_type": "execute_result"
    }
   ],
   "source": [
    "os.listdir()"
   ]
  },
  {
   "cell_type": "code",
   "execution_count": 75,
   "id": "1e10a0ef",
   "metadata": {},
   "outputs": [],
   "source": [
    "wkb= load_workbook(\"superstore.xlsx\")"
   ]
  },
  {
   "cell_type": "code",
   "execution_count": 76,
   "id": "f12baf51",
   "metadata": {},
   "outputs": [
    {
     "data": {
      "text/plain": [
       "['Orders', 'sheet42', 'sheet41', 'sheet4', 'People', 'eDB', 'eDB1', 'eDB2']"
      ]
     },
     "execution_count": 76,
     "metadata": {},
     "output_type": "execute_result"
    }
   ],
   "source": [
    "wkb.sheetnames"
   ]
  },
  {
   "cell_type": "code",
   "execution_count": 77,
   "id": "1983811f",
   "metadata": {},
   "outputs": [],
   "source": [
    "order = wkb[\"Orders\"]"
   ]
  },
  {
   "cell_type": "code",
   "execution_count": 78,
   "id": "73092dc2",
   "metadata": {},
   "outputs": [
    {
     "data": {
      "text/plain": [
       "'Orders'"
      ]
     },
     "execution_count": 78,
     "metadata": {},
     "output_type": "execute_result"
    }
   ],
   "source": [
    "order.title"
   ]
  },
  {
   "cell_type": "code",
   "execution_count": 79,
   "id": "2aaf6337",
   "metadata": {},
   "outputs": [],
   "source": [
    "# Apply filters to the range"
   ]
  },
  {
   "cell_type": "code",
   "execution_count": 80,
   "id": "31f82883",
   "metadata": {},
   "outputs": [],
   "source": [
    "order.auto_flter_ref= order.dimensions"
   ]
  },
  {
   "cell_type": "code",
   "execution_count": 81,
   "id": "1ac345ac",
   "metadata": {},
   "outputs": [
    {
     "data": {
      "text/plain": [
       "'A1:V9732'"
      ]
     },
     "execution_count": 81,
     "metadata": {},
     "output_type": "execute_result"
    }
   ],
   "source": [
    "order.dimensions"
   ]
  },
  {
   "cell_type": "code",
   "execution_count": 82,
   "id": "9993b919",
   "metadata": {},
   "outputs": [],
   "source": [
    "fltered_worksheet= wkb.create_sheet(title =\"Filtered_Data\")"
   ]
  },
  {
   "cell_type": "code",
   "execution_count": 83,
   "id": "ae7bd61f",
   "metadata": {},
   "outputs": [],
   "source": [
    "header = [cell.value for cell in order[1]]\n",
    "fltered_worksheet.append(header)"
   ]
  },
  {
   "cell_type": "code",
   "execution_count": 84,
   "id": "617e58ab",
   "metadata": {},
   "outputs": [
    {
     "name": "stdout",
     "output_type": "stream",
     "text": [
      "['Row ID', 'Order ID', 'Order Date', 'Ship Date', 'Ship Mode', 'Customer ID', 'Customer Name', 'Segment', 'Country', 'City', 'State', 'Postal Code', 'Region', 'Product ID', 'Category', 'Sub-Category', 'Product Name', 'Sales before Discount', 'Sales After Discount', 'Quantity', 'Discount', 'Profit']\n"
     ]
    }
   ],
   "source": [
    "print(header)"
   ]
  },
  {
   "cell_type": "code",
   "execution_count": 85,
   "id": "96308714",
   "metadata": {},
   "outputs": [],
   "source": [
    "#Apply the filter\n",
    "filter_condition = 1000"
   ]
  },
  {
   "cell_type": "code",
   "execution_count": 86,
   "id": "03a259fb",
   "metadata": {},
   "outputs": [
    {
     "data": {
      "text/plain": [
       "12"
      ]
     },
     "execution_count": 86,
     "metadata": {},
     "output_type": "execute_result"
    }
   ],
   "source": [
    "header.index(\"Region\")"
   ]
  },
  {
   "cell_type": "code",
   "execution_count": 87,
   "id": "f7fe1227",
   "metadata": {},
   "outputs": [
    {
     "data": {
      "text/plain": [
       "12"
      ]
     },
     "execution_count": 87,
     "metadata": {},
     "output_type": "execute_result"
    }
   ],
   "source": [
    "[cell.value for cell in order[1]].index('Region')"
   ]
  },
  {
   "cell_type": "code",
   "execution_count": 88,
   "id": "9c762573",
   "metadata": {},
   "outputs": [],
   "source": [
    "for row_num, row in enumerate(order.iter_rows(min_row=2, values_only=True),2):\n",
    "#     print(row_num, row)\n",
    "    if row[17] > filter_condition:\n",
    "        fltered_worksheet.append(row)"
   ]
  },
  {
   "cell_type": "code",
   "execution_count": 89,
   "id": "fb31c57c",
   "metadata": {},
   "outputs": [],
   "source": [
    "# Based on Multiple Criteria"
   ]
  },
  {
   "cell_type": "code",
   "execution_count": 90,
   "id": "6ad917a4",
   "metadata": {},
   "outputs": [],
   "source": [
    "filtered_saleQty=wkb.create_sheet(title = \"FilteredSaleQty\")\n",
    "filtered_saleQty.append(header)"
   ]
  },
  {
   "cell_type": "code",
   "execution_count": 91,
   "id": "2f8cb285",
   "metadata": {},
   "outputs": [],
   "source": [
    "#Where sales is greater than 1000 and qty >=10"
   ]
  },
  {
   "cell_type": "code",
   "execution_count": 92,
   "id": "6357521f",
   "metadata": {},
   "outputs": [],
   "source": [
    "for row_num, row in enumerate(order.iter_rows(min_row=2, values_only=True),2):\n",
    "    if (row[17] > filter_condition) and (row[19]>=10):\n",
    "        filtered_saleQty.append(row)"
   ]
  },
  {
   "cell_type": "code",
   "execution_count": 93,
   "id": "51b301fa",
   "metadata": {},
   "outputs": [],
   "source": [
    "wkb.save(\"saleq.xlsx\")"
   ]
  },
  {
   "cell_type": "code",
   "execution_count": 94,
   "id": "8ff0f762",
   "metadata": {},
   "outputs": [],
   "source": [
    "# Filter with customer name"
   ]
  },
  {
   "cell_type": "code",
   "execution_count": 95,
   "id": "dfce0278",
   "metadata": {},
   "outputs": [
    {
     "data": {
      "text/plain": [
       "6"
      ]
     },
     "execution_count": 95,
     "metadata": {},
     "output_type": "execute_result"
    }
   ],
   "source": [
    "header.index(\"Customer Name\")"
   ]
  },
  {
   "cell_type": "code",
   "execution_count": 96,
   "id": "0ea27593",
   "metadata": {},
   "outputs": [],
   "source": [
    "ws=wkb.create_sheet(title = \"cusfilter\")"
   ]
  },
  {
   "cell_type": "code",
   "execution_count": 97,
   "id": "b9ed8f9b",
   "metadata": {},
   "outputs": [],
   "source": [
    "ws.append(header)"
   ]
  },
  {
   "cell_type": "code",
   "execution_count": 98,
   "id": "12f74ac9",
   "metadata": {},
   "outputs": [],
   "source": [
    "for row_num, row in enumerate(order.iter_rows(min_row=2, values_only=True),2):\n",
    "    if (row[17] >filter_condition) and (row[19]>=10) and (row[7][0]==\"A\"):\n",
    "        ws.append(row)"
   ]
  },
  {
   "cell_type": "code",
   "execution_count": 99,
   "id": "e560580c",
   "metadata": {},
   "outputs": [],
   "source": [
    "wkb.save(\"customer7.xlsx\")"
   ]
  },
  {
   "cell_type": "code",
   "execution_count": 100,
   "id": "c6ad2134",
   "metadata": {},
   "outputs": [],
   "source": [
    "#How to filter the data based on date\n",
    "ws1= wkb.create_sheet(title=\"customdate\")\n",
    "ws1.append(header)"
   ]
  },
  {
   "cell_type": "code",
   "execution_count": 101,
   "id": "41c9be98",
   "metadata": {},
   "outputs": [
    {
     "data": {
      "text/plain": [
       "2"
      ]
     },
     "execution_count": 101,
     "metadata": {},
     "output_type": "execute_result"
    }
   ],
   "source": [
    "header.index(\"Order Date\")"
   ]
  },
  {
   "cell_type": "code",
   "execution_count": 102,
   "id": "4a517e2c",
   "metadata": {},
   "outputs": [],
   "source": [
    "from datetime import datetime\n",
    "filter_date_condition =datetime(2016,11,28)\n",
    "for row_num, row in enumerate(order.iter_rows(min_row=2, values_only=True),2):\n",
    "    if (row[2] > filter_date_condition):\n",
    "        ws1.append(row)"
   ]
  },
  {
   "cell_type": "code",
   "execution_count": 103,
   "id": "2c3d9fd9",
   "metadata": {},
   "outputs": [],
   "source": [
    "wkb.save(\"withdate.xlsx\")"
   ]
  },
  {
   "cell_type": "markdown",
   "id": "fba7696c",
   "metadata": {},
   "source": [
    "# Part 4\n"
   ]
  },
  {
   "cell_type": "code",
   "execution_count": 104,
   "id": "645c8b6e",
   "metadata": {},
   "outputs": [],
   "source": [
    "from openpyxl import load_workbook\n",
    "workbook = load_workbook(\"superstore.xlsx\")"
   ]
  },
  {
   "cell_type": "code",
   "execution_count": 105,
   "id": "a98c4adc",
   "metadata": {},
   "outputs": [
    {
     "data": {
      "text/plain": [
       "<openpyxl.workbook.workbook.Workbook at 0x204aa5ba080>"
      ]
     },
     "execution_count": 105,
     "metadata": {},
     "output_type": "execute_result"
    }
   ],
   "source": [
    "workbook"
   ]
  },
  {
   "cell_type": "code",
   "execution_count": 106,
   "id": "9eca2aa7",
   "metadata": {},
   "outputs": [
    {
     "data": {
      "text/plain": [
       "[<Worksheet \"Orders\">,\n",
       " <Worksheet \"sheet42\">,\n",
       " <Worksheet \"sheet41\">,\n",
       " <Worksheet \"sheet4\">,\n",
       " <Worksheet \"People\">,\n",
       " <Worksheet \"eDB\">,\n",
       " <Worksheet \"eDB1\">,\n",
       " <Worksheet \"eDB2\">]"
      ]
     },
     "execution_count": 106,
     "metadata": {},
     "output_type": "execute_result"
    }
   ],
   "source": [
    "workbook.worksheets"
   ]
  },
  {
   "cell_type": "code",
   "execution_count": 107,
   "id": "9e91f4fc",
   "metadata": {},
   "outputs": [],
   "source": [
    "# del workbook[\"eDB1\"]"
   ]
  },
  {
   "cell_type": "code",
   "execution_count": 108,
   "id": "6a11619a",
   "metadata": {},
   "outputs": [],
   "source": [
    "order= workbook['Orders']"
   ]
  },
  {
   "cell_type": "code",
   "execution_count": 109,
   "id": "0912bc12",
   "metadata": {},
   "outputs": [
    {
     "name": "stdout",
     "output_type": "stream",
     "text": [
      "['Row ID', 'Order ID', 'Order Date', 'Ship Date', 'Ship Mode', 'Customer ID', 'Customer Name', 'Segment', 'Country', 'City', 'State', 'Postal Code', 'Region', 'Product ID', 'Category', 'Sub-Category', 'Product Name', 'Sales before Discount', 'Sales After Discount', 'Quantity', 'Discount', 'Profit']\n"
     ]
    }
   ],
   "source": [
    "print([cell.value for cell in order[1]])"
   ]
  },
  {
   "cell_type": "code",
   "execution_count": 110,
   "id": "c48847d5",
   "metadata": {},
   "outputs": [
    {
     "data": {
      "text/plain": [
       "10"
      ]
     },
     "execution_count": 110,
     "metadata": {},
     "output_type": "execute_result"
    }
   ],
   "source": [
    "[cell.value for cell in order[1]].index(\"State\")"
   ]
  },
  {
   "cell_type": "code",
   "execution_count": 111,
   "id": "d7bc4e74",
   "metadata": {},
   "outputs": [],
   "source": [
    "#  Identify the column containig values to check for dupicates\n",
    "source_c_index = [cell.value for cell in order[1]].index(\"State\")"
   ]
  },
  {
   "cell_type": "code",
   "execution_count": 112,
   "id": "26731e23",
   "metadata": {},
   "outputs": [
    {
     "data": {
      "text/plain": [
       "10"
      ]
     },
     "execution_count": 112,
     "metadata": {},
     "output_type": "execute_result"
    }
   ],
   "source": [
    "source_c_index"
   ]
  },
  {
   "cell_type": "code",
   "execution_count": 113,
   "id": "98614f86",
   "metadata": {},
   "outputs": [
    {
     "data": {
      "text/plain": [
       "22"
      ]
     },
     "execution_count": 113,
     "metadata": {},
     "output_type": "execute_result"
    }
   ],
   "source": [
    "order.max_column"
   ]
  },
  {
   "cell_type": "code",
   "execution_count": 114,
   "id": "1dc66cfb",
   "metadata": {},
   "outputs": [],
   "source": [
    " unique_values=set()\n",
    "for row in order.iter_rows(min_row =2, values_only=True):\n",
    "    value = row[source_c_index]\n",
    "    unique_values.add(value)"
   ]
  },
  {
   "cell_type": "code",
   "execution_count": 115,
   "id": "37689b40",
   "metadata": {},
   "outputs": [
    {
     "name": "stdout",
     "output_type": "stream",
     "text": [
      "{'Delaware', 'New Jersey', 'South Carolina', 'Rhode Island', 'Arizona', 'Nevada', 'Montana', 'Tennessee', 'Wisconsin', 'Texas', 'New York', 'District of Columbia', 'Michigan', 'Virginia', 'Ohio', 'Illinois', 'Utah', 'Minnesota', 'Indiana', 'California', 'New Hampshire', 'Wyoming', 'Nebraska', 'Idaho', 'Georgia', 'Maine', 'Oklahoma', 'Kentucky', 'Arkansas', 'North Carolina', 'Florida', 'New Mexico', 'Oregon', 'Pennsylvania', 'Massachusetts', 'Louisiana', 'Washington', 'Iowa', 'Mississippi', 'Kansas', 'Colorado', 'Alabama', 'Maryland', 'South Dakota', 'West Virginia', 'Missouri', 'Connecticut', 'North Dakota', 'Vermont'}\n"
     ]
    }
   ],
   "source": [
    "print(unique_values)"
   ]
  },
  {
   "cell_type": "code",
   "execution_count": 116,
   "id": "a0a61a14",
   "metadata": {},
   "outputs": [
    {
     "data": {
      "text/plain": [
       "49"
      ]
     },
     "execution_count": 116,
     "metadata": {},
     "output_type": "execute_result"
    }
   ],
   "source": [
    "len(unique_values)"
   ]
  },
  {
   "cell_type": "code",
   "execution_count": 117,
   "id": "202a8ee6",
   "metadata": {},
   "outputs": [],
   "source": [
    "new_c_index = order.max_column + 5\n",
    "\n",
    "# Add headers for new columns\n",
    "order.cell(1, new_c_index).value = \"Unique State\"\n",
    "order.cell(1, new_c_index + 1).value = \"Total Quantity\"\n",
    "order.cell(1, new_c_index + 2).value = \"Total Quantity2\"\n",
    "order.cell(1, new_c_index + 3).value = \"Postal Code\"\n",
    "order.cell(1, new_c_index + 4).value = \"Data Transformation\"\n",
    "#Iterate through unique states and apply Sumif formula \n",
    "for i, state in enumerate(unique_values, start=2):\n",
    "    order[f\"Z{i}\"] = state\n",
    "    order[f\"AA{i}\"] = f'=SUMIF($K:$K,\"{state}\", S:S)'\n",
    "    order[f\"AB{i}\"]=f'=SUMIF($K:$K,Z{i},S:S)'\n",
    "    order[f'AC{i}']=f'=VLOOKUP(Z{i},$K:$L,2,0)'\n",
    "    order[f'AD{i}']=f'=TEXT(C{i},\"dddd dd - mmm - yyyy\")'\n",
    "workbook.save(\"superstore_formula.xlsx\")"
   ]
  },
  {
   "cell_type": "code",
   "execution_count": 118,
   "id": "3e4ae48a",
   "metadata": {},
   "outputs": [
    {
     "name": "stdout",
     "output_type": "stream",
     "text": [
      "['ABS', 'ACCRINT', 'ACCRINTM', 'ACOS', 'ACOSH', 'ADDRESS', 'AMORDEGRC', 'AMORLINC', 'AND', 'AREAS', 'ASC', 'ASIN', 'ASINH', 'ATAN', 'ATAN2', 'ATANH', 'AVEDEV', 'AVERAGE', 'AVERAGEA', 'AVERAGEIF', 'AVERAGEIFS', 'BAHTTEXT', 'BESSELI', 'BESSELJ', 'BESSELK', 'BESSELY', 'BETADIST', 'BETAINV', 'BIN2DEC', 'BIN2HEX', 'BIN2OCT', 'BINOMDIST', 'CEILING', 'CELL', 'CHAR', 'CHIDIST', 'CHIINV', 'CHITEST', 'CHOOSE', 'CLEAN', 'CODE', 'COLUMN', 'COLUMNS', 'COMBIN', 'COMPLEX', 'CONCATENATE', 'CONFIDENCE', 'CONVERT', 'CORREL', 'COS', 'COSH', 'COUNT', 'COUNTA', 'COUNTBLANK', 'COUNTIF', 'COUNTIFS', 'COUPDAYBS', 'COUPDAYS', 'COUPDAYSNC', 'COUPNCD', 'COUPNUM', 'COUPPCD', 'COVAR', 'CRITBINOM', 'CUBEKPIMEMBER', 'CUBEMEMBER', 'CUBEMEMBERPROPERTY', 'CUBERANKEDMEMBER', 'CUBESET', 'CUBESETCOUNT', 'CUBEVALUE', 'CUMIPMT', 'CUMPRINC', 'DATE', 'DATEDIF', 'DATEVALUE', 'DAVERAGE', 'DAY', 'DAYS360', 'DB', 'DCOUNT', 'DCOUNTA', 'DDB', 'DEC2BIN', 'DEC2HEX', 'DEC2OCT', 'DEGREES', 'DELTA', 'DEVSQ', 'DGET', 'DISC', 'DMAX', 'DMIN', 'DOLLAR', 'DOLLARDE', 'DOLLARFR', 'DPRODUCT', 'DSTDEV', 'DSTDEVP', 'DSUM', 'DURATION', 'DVAR', 'DVARP', 'ECMA.CEILING', 'EDATE', 'EFFECT', 'EOMONTH', 'ERF', 'ERFC', 'ERROR.TYPE', 'EVEN', 'EXACT', 'EXP', 'EXPONDIST', 'FACT', 'FACTDOUBLE', 'FALSE', 'FDIST', 'FIND', 'FINDB', 'FINV', 'FISHER', 'FISHERINV', 'FIXED', 'FLOOR', 'FORECAST', 'FREQUENCY', 'FTEST', 'FV', 'FVSCHEDULE', 'GAMMADIST', 'GAMMAINV', 'GAMMALN', 'GCD', 'GEOMEAN', 'GESTEP', 'GETPIVOTDATA', 'GROWTH', 'HARMEAN', 'HEX2BIN', 'HEX2DEC', 'HEX2OCT', 'HLOOKUP', 'HOUR', 'HYPERLINK', 'HYPGEOMDIST', 'IF', 'IFERROR', 'IMABS', 'IMAGINARY', 'IMARGUMENT', 'IMCONJUGATE', 'IMCOS', 'IMDIV', 'IMEXP', 'IMLN', 'IMLOG10', 'IMLOG2', 'IMPOWER', 'IMPRODUCT', 'IMREAL', 'IMSIN', 'IMSQRT', 'IMSUB', 'IMSUM', 'INDEX', 'INDIRECT', 'INFO', 'INT', 'INTERCEPT', 'INTRATE', 'IPMT', 'IRR', 'ISBLANK', 'ISERR', 'ISERROR', 'ISEVEN', 'ISLOGICAL', 'ISNA', 'ISNONTEXT', 'ISNUMBER', 'ISO.CEILING', 'ISODD', 'ISPMT', 'ISREF', 'ISTEXT', 'JIS', 'KURT', 'LARGE', 'LCM', 'LEFT', 'LEFTB', 'LEN', 'LENB', 'LINEST', 'LN', 'LOG', 'LOG10', 'LOGEST', 'LOGINV', 'LOGNORMDIST', 'LOOKUP', 'LOWER', 'MATCH', 'MAX', 'MAXA', 'MDETERM', 'MDURATION', 'MEDIAN', 'MID', 'MIDB', 'MIN', 'MINA', 'MINUTE', 'MINVERSE', 'MIRR', 'MMULT', 'MOD', 'MODE', 'MONTH', 'MROUND', 'MULTINOMIAL', 'N', 'NA', 'NEGBINOMDIST', 'NETWORKDAYS', 'NETWORKDAYS.INTL', 'NOMINAL', 'NORMDIST', 'NORMINV', 'NORMSDIST', 'NORMSINV', 'NOT', 'NOW', 'NPER', 'NPV', 'OCT2BIN', 'OCT2DEC', 'OCT2HEX', 'ODD', 'ODDFPRICE', 'ODDFYIELD', 'ODDLPRICE', 'ODDLYIELD', 'OFFSET', 'OR', 'PEARSON', 'PERCENTILE', 'PERCENTRANK', 'PERMUT', 'PHONETIC', 'PI', 'PMT', 'POISSON', 'POWER', 'PPMT', 'PRICE', 'PRICEDISC', 'PRICEMAT', 'PROB', 'PRODUCT', 'PROPER', 'PV', 'QUARTILE', 'QUOTIENT', 'RADIANS', 'RAND', 'RANDBETWEEN', 'RANK', 'RATE', 'RECEIVED', 'REPLACE', 'REPLACEB', 'REPT', 'RIGHT', 'RIGHTB', 'ROMAN', 'ROUND', 'ROUNDDOWN', 'ROUNDUP', 'ROW', 'ROWS', 'RSQ', 'RTD', 'SEARCH', 'SEARCHB', 'SECOND', 'SERIESSUM', 'SIGN', 'SIN', 'SINH', 'SKEW', 'SLN', 'SLOPE', 'SMALL', 'SQRT', 'SQRTPI', 'STANDARDIZE', 'STDEV', 'STDEVA', 'STDEVP', 'STDEVPA', 'STEYX', 'SUBSTITUTE', 'SUBTOTAL', 'SUM', 'SUMIF', 'SUMIFS', 'SUMPRODUCT', 'SUMSQ', 'SUMX2MY2', 'SUMX2PY2', 'SUMXMY2', 'SYD', 'T', 'TAN', 'TANH', 'TBILLEQ', 'TBILLPRICE', 'TBILLYIELD', 'TDIST', 'TEXT', 'TIME', 'TIMEVALUE', 'TINV', 'TODAY', 'TRANSPOSE', 'TREND', 'TRIM', 'TRIMMEAN', 'TRUE', 'TRUNC', 'TTEST', 'TYPE', 'UPPER', 'VALUE', 'VAR', 'VARA', 'VARP', 'VARPA', 'VDB', 'VLOOKUP', 'WEEKDAY', 'WEEKNUM', 'WEIBULL', 'WORKDAY', 'WORKDAY.INTL', 'XIRR', 'XNPV', 'YEAR', 'YEARFRAC', 'YIELD', 'YIELDDISC', 'YIELDMAT', 'ZTEST']\n"
     ]
    }
   ],
   "source": [
    "from openpyxl.utils import FORMULAE\n",
    "print(sorted(FORMULAE))"
   ]
  },
  {
   "cell_type": "markdown",
   "id": "b7697232",
   "metadata": {},
   "source": [
    "# Part 5\n"
   ]
  },
  {
   "cell_type": "code",
   "execution_count": 119,
   "id": "a529b058",
   "metadata": {},
   "outputs": [],
   "source": [
    "from openpyxl import Workbook\n",
    "from openpyxl.utils import FORMULAE\n",
    "from openpyxl import load_workbook\n",
    "from openpyxl.utils.dataframe import dataframe_to_rows\n",
    "import pandas as pd"
   ]
  },
  {
   "cell_type": "code",
   "execution_count": 120,
   "id": "4f405a35",
   "metadata": {},
   "outputs": [],
   "source": [
    "df =pd.read_excel(\"superstore.xlsx\")"
   ]
  },
  {
   "cell_type": "code",
   "execution_count": 121,
   "id": "c8b9c253",
   "metadata": {},
   "outputs": [
    {
     "name": "stdout",
     "output_type": "stream",
     "text": [
      "Index(['Row ID', 'Order ID', 'Order Date', 'Ship Date', 'Ship Mode',\n",
      "       'Customer ID', 'Customer Name', 'Segment', 'Country', 'City', 'State',\n",
      "       'Postal Code', 'Region', 'Product ID', 'Category', 'Sub-Category',\n",
      "       'Product Name', 'Sales before Discount', 'Sales After Discount',\n",
      "       'Quantity', 'Discount', 'Profit'],\n",
      "      dtype='object')\n"
     ]
    }
   ],
   "source": [
    "print(df.columns)"
   ]
  },
  {
   "cell_type": "code",
   "execution_count": 122,
   "id": "e9f65f2c",
   "metadata": {},
   "outputs": [],
   "source": [
    "pivot_table=pd.pivot_table(df,values=[\"Sales before Discount\", \"Quantity\",\"Profit\"],\n",
    "                          index=[\"Category\"], columns = [\"Segment\"],\n",
    "                          aggfunc={\"Sales before Discount\":'sum', \"Quantity\":'sum', \"Profit\":'sum'})"
   ]
  },
  {
   "cell_type": "code",
   "execution_count": 123,
   "id": "6783fa7c",
   "metadata": {},
   "outputs": [
    {
     "data": {
      "text/html": [
       "<div>\n",
       "<style scoped>\n",
       "    .dataframe tbody tr th:only-of-type {\n",
       "        vertical-align: middle;\n",
       "    }\n",
       "\n",
       "    .dataframe tbody tr th {\n",
       "        vertical-align: top;\n",
       "    }\n",
       "\n",
       "    .dataframe thead tr th {\n",
       "        text-align: left;\n",
       "    }\n",
       "\n",
       "    .dataframe thead tr:last-of-type th {\n",
       "        text-align: right;\n",
       "    }\n",
       "</style>\n",
       "<table border=\"1\" class=\"dataframe\">\n",
       "  <thead>\n",
       "    <tr>\n",
       "      <th></th>\n",
       "      <th colspan=\"3\" halign=\"left\">Profit</th>\n",
       "      <th colspan=\"3\" halign=\"left\">Quantity</th>\n",
       "      <th colspan=\"3\" halign=\"left\">Sales before Discount</th>\n",
       "    </tr>\n",
       "    <tr>\n",
       "      <th>Segment</th>\n",
       "      <th>Consumer</th>\n",
       "      <th>Corporate</th>\n",
       "      <th>Home Office</th>\n",
       "      <th>Consumer</th>\n",
       "      <th>Corporate</th>\n",
       "      <th>Home Office</th>\n",
       "      <th>Consumer</th>\n",
       "      <th>Corporate</th>\n",
       "      <th>Home Office</th>\n",
       "    </tr>\n",
       "    <tr>\n",
       "      <th>Category</th>\n",
       "      <th></th>\n",
       "      <th></th>\n",
       "      <th></th>\n",
       "      <th></th>\n",
       "      <th></th>\n",
       "      <th></th>\n",
       "      <th></th>\n",
       "      <th></th>\n",
       "      <th></th>\n",
       "    </tr>\n",
       "  </thead>\n",
       "  <tbody>\n",
       "    <tr>\n",
       "      <th>Furniture</th>\n",
       "      <td>6795.1429</td>\n",
       "      <td>8846.2651</td>\n",
       "      <td>2867.0314</td>\n",
       "      <td>4057</td>\n",
       "      <td>2448</td>\n",
       "      <td>1323</td>\n",
       "      <td>382500.674</td>\n",
       "      <td>223918.2938</td>\n",
       "      <td>116030.5915</td>\n",
       "    </tr>\n",
       "    <tr>\n",
       "      <th>Office Supplies</th>\n",
       "      <td>55758.3237</td>\n",
       "      <td>39760.6343</td>\n",
       "      <td>25154.3741</td>\n",
       "      <td>11392</td>\n",
       "      <td>6870</td>\n",
       "      <td>4035</td>\n",
       "      <td>357286.140</td>\n",
       "      <td>228080.3680</td>\n",
       "      <td>120469.4220</td>\n",
       "    </tr>\n",
       "    <tr>\n",
       "      <th>Technology</th>\n",
       "      <td>70010.1759</td>\n",
       "      <td>42451.8608</td>\n",
       "      <td>31339.4963</td>\n",
       "      <td>3540</td>\n",
       "      <td>2045</td>\n",
       "      <td>1204</td>\n",
       "      <td>403297.305</td>\n",
       "      <td>240217.8190</td>\n",
       "      <td>156010.2390</td>\n",
       "    </tr>\n",
       "  </tbody>\n",
       "</table>\n",
       "</div>"
      ],
      "text/plain": [
       "                     Profit                         Quantity            \\\n",
       "Segment            Consumer   Corporate Home Office Consumer Corporate   \n",
       "Category                                                                 \n",
       "Furniture         6795.1429   8846.2651   2867.0314     4057      2448   \n",
       "Office Supplies  55758.3237  39760.6343  25154.3741    11392      6870   \n",
       "Technology       70010.1759  42451.8608  31339.4963     3540      2045   \n",
       "\n",
       "                            Sales before Discount                            \n",
       "Segment         Home Office              Consumer    Corporate  Home Office  \n",
       "Category                                                                     \n",
       "Furniture              1323            382500.674  223918.2938  116030.5915  \n",
       "Office Supplies        4035            357286.140  228080.3680  120469.4220  \n",
       "Technology             1204            403297.305  240217.8190  156010.2390  "
      ]
     },
     "execution_count": 123,
     "metadata": {},
     "output_type": "execute_result"
    }
   ],
   "source": [
    "pivot_table"
   ]
  },
  {
   "cell_type": "code",
   "execution_count": 124,
   "id": "58c6bb75",
   "metadata": {},
   "outputs": [],
   "source": [
    "# Load the superstore workbook using Openpyxl"
   ]
  },
  {
   "cell_type": "code",
   "execution_count": 125,
   "id": "7c3dc8a2",
   "metadata": {},
   "outputs": [],
   "source": [
    "wkb= load_workbook(\"superstore.xlsx\")"
   ]
  },
  {
   "cell_type": "code",
   "execution_count": 126,
   "id": "30846e49",
   "metadata": {},
   "outputs": [
    {
     "data": {
      "text/plain": [
       "[<Worksheet \"Orders\">,\n",
       " <Worksheet \"sheet42\">,\n",
       " <Worksheet \"sheet41\">,\n",
       " <Worksheet \"sheet4\">,\n",
       " <Worksheet \"People\">,\n",
       " <Worksheet \"eDB\">,\n",
       " <Worksheet \"eDB1\">,\n",
       " <Worksheet \"eDB2\">]"
      ]
     },
     "execution_count": 126,
     "metadata": {},
     "output_type": "execute_result"
    }
   ],
   "source": [
    "wkb.worksheets"
   ]
  },
  {
   "cell_type": "code",
   "execution_count": 127,
   "id": "7f12cedb",
   "metadata": {},
   "outputs": [
    {
     "data": {
      "text/plain": [
       "<Worksheet \"SaleQtyProfit\">"
      ]
     },
     "execution_count": 127,
     "metadata": {},
     "output_type": "execute_result"
    }
   ],
   "source": [
    "wkb.create_sheet(\"SaleQtyProfit\")"
   ]
  },
  {
   "cell_type": "code",
   "execution_count": 128,
   "id": "ea62ec58",
   "metadata": {},
   "outputs": [],
   "source": [
    "#set an object\n",
    "category = wkb[\"SaleQtyProfit\"]"
   ]
  },
  {
   "cell_type": "code",
   "execution_count": 129,
   "id": "edc22e06",
   "metadata": {},
   "outputs": [],
   "source": [
    "# Write the Pivot Table to the Worksheet"
   ]
  },
  {
   "cell_type": "code",
   "execution_count": 130,
   "id": "73c82993",
   "metadata": {},
   "outputs": [],
   "source": [
    "for row in dataframe_to_rows(pivot_table, index=True, header=True):\n",
    "    category.append(row)"
   ]
  },
  {
   "cell_type": "code",
   "execution_count": 131,
   "id": "159ea14b",
   "metadata": {},
   "outputs": [],
   "source": [
    "wkb.save(\"superstore_pivot_table1.xlsx\")"
   ]
  },
  {
   "cell_type": "code",
   "execution_count": 132,
   "id": "6460e51e",
   "metadata": {},
   "outputs": [],
   "source": [
    "pivot_1= pd.pivot_table(df, values=[\"Sales before Discount\", \"Profit\", \"Quantity\"],\n",
    "                       index= [\"State\"], columns='Region',\n",
    "                       aggfunc={\"Sales before Discount\":'sum',\"Quantity\":'sum', \"Profit\":'sum'},\n",
    "                        fill_value=0,\n",
    "                       margins=True, margins_name=\"Grand Total\")"
   ]
  },
  {
   "cell_type": "code",
   "execution_count": 133,
   "id": "5aa18c8b",
   "metadata": {},
   "outputs": [
    {
     "data": {
      "text/html": [
       "<div>\n",
       "<style scoped>\n",
       "    .dataframe tbody tr th:only-of-type {\n",
       "        vertical-align: middle;\n",
       "    }\n",
       "\n",
       "    .dataframe tbody tr th {\n",
       "        vertical-align: top;\n",
       "    }\n",
       "\n",
       "    .dataframe thead tr th {\n",
       "        text-align: left;\n",
       "    }\n",
       "\n",
       "    .dataframe thead tr:last-of-type th {\n",
       "        text-align: right;\n",
       "    }\n",
       "</style>\n",
       "<table border=\"1\" class=\"dataframe\">\n",
       "  <thead>\n",
       "    <tr>\n",
       "      <th></th>\n",
       "      <th colspan=\"5\" halign=\"left\">Profit</th>\n",
       "      <th colspan=\"5\" halign=\"left\">Quantity</th>\n",
       "      <th colspan=\"5\" halign=\"left\">Sales before Discount</th>\n",
       "    </tr>\n",
       "    <tr>\n",
       "      <th>Region</th>\n",
       "      <th>Central</th>\n",
       "      <th>East</th>\n",
       "      <th>South</th>\n",
       "      <th>West</th>\n",
       "      <th>Grand Total</th>\n",
       "      <th>Central</th>\n",
       "      <th>East</th>\n",
       "      <th>South</th>\n",
       "      <th>West</th>\n",
       "      <th>Grand Total</th>\n",
       "      <th>Central</th>\n",
       "      <th>East</th>\n",
       "      <th>South</th>\n",
       "      <th>West</th>\n",
       "      <th>Grand Total</th>\n",
       "    </tr>\n",
       "    <tr>\n",
       "      <th>State</th>\n",
       "      <th></th>\n",
       "      <th></th>\n",
       "      <th></th>\n",
       "      <th></th>\n",
       "      <th></th>\n",
       "      <th></th>\n",
       "      <th></th>\n",
       "      <th></th>\n",
       "      <th></th>\n",
       "      <th></th>\n",
       "      <th></th>\n",
       "      <th></th>\n",
       "      <th></th>\n",
       "      <th></th>\n",
       "      <th></th>\n",
       "    </tr>\n",
       "  </thead>\n",
       "  <tbody>\n",
       "    <tr>\n",
       "      <th>Alabama</th>\n",
       "      <td>0.0000</td>\n",
       "      <td>0.0000</td>\n",
       "      <td>5786.8253</td>\n",
       "      <td>0.0000</td>\n",
       "      <td>5786.8253</td>\n",
       "      <td>0.0</td>\n",
       "      <td>0.0</td>\n",
       "      <td>256.0</td>\n",
       "      <td>0.0</td>\n",
       "      <td>256</td>\n",
       "      <td>0.0000</td>\n",
       "      <td>0.000</td>\n",
       "      <td>19510.640</td>\n",
       "      <td>0.0000</td>\n",
       "      <td>1.951064e+04</td>\n",
       "    </tr>\n",
       "    <tr>\n",
       "      <th>Arizona</th>\n",
       "      <td>0.0000</td>\n",
       "      <td>0.0000</td>\n",
       "      <td>0.0000</td>\n",
       "      <td>-3127.7974</td>\n",
       "      <td>-3127.7974</td>\n",
       "      <td>0.0</td>\n",
       "      <td>0.0</td>\n",
       "      <td>0.0</td>\n",
       "      <td>832.0</td>\n",
       "      <td>832</td>\n",
       "      <td>0.0000</td>\n",
       "      <td>0.000</td>\n",
       "      <td>0.000</td>\n",
       "      <td>34514.7030</td>\n",
       "      <td>3.451470e+04</td>\n",
       "    </tr>\n",
       "    <tr>\n",
       "      <th>Arkansas</th>\n",
       "      <td>0.0000</td>\n",
       "      <td>0.0000</td>\n",
       "      <td>3571.4396</td>\n",
       "      <td>0.0000</td>\n",
       "      <td>3571.4396</td>\n",
       "      <td>0.0</td>\n",
       "      <td>0.0</td>\n",
       "      <td>213.0</td>\n",
       "      <td>0.0</td>\n",
       "      <td>213</td>\n",
       "      <td>0.0000</td>\n",
       "      <td>0.000</td>\n",
       "      <td>9818.730</td>\n",
       "      <td>0.0000</td>\n",
       "      <td>9.818730e+03</td>\n",
       "    </tr>\n",
       "    <tr>\n",
       "      <th>California</th>\n",
       "      <td>0.0000</td>\n",
       "      <td>0.0000</td>\n",
       "      <td>0.0000</td>\n",
       "      <td>75026.4011</td>\n",
       "      <td>75026.4011</td>\n",
       "      <td>0.0</td>\n",
       "      <td>0.0</td>\n",
       "      <td>0.0</td>\n",
       "      <td>7544.0</td>\n",
       "      <td>7544</td>\n",
       "      <td>0.0000</td>\n",
       "      <td>0.000</td>\n",
       "      <td>0.000</td>\n",
       "      <td>448616.8625</td>\n",
       "      <td>4.486169e+05</td>\n",
       "    </tr>\n",
       "    <tr>\n",
       "      <th>Colorado</th>\n",
       "      <td>0.0000</td>\n",
       "      <td>0.0000</td>\n",
       "      <td>0.0000</td>\n",
       "      <td>-6521.3041</td>\n",
       "      <td>-6521.3041</td>\n",
       "      <td>0.0</td>\n",
       "      <td>0.0</td>\n",
       "      <td>0.0</td>\n",
       "      <td>686.0</td>\n",
       "      <td>686</td>\n",
       "      <td>0.0000</td>\n",
       "      <td>0.000</td>\n",
       "      <td>0.000</td>\n",
       "      <td>31388.5420</td>\n",
       "      <td>3.138854e+04</td>\n",
       "    </tr>\n",
       "    <tr>\n",
       "      <th>Connecticut</th>\n",
       "      <td>0.0000</td>\n",
       "      <td>3511.4918</td>\n",
       "      <td>0.0000</td>\n",
       "      <td>0.0000</td>\n",
       "      <td>3511.4918</td>\n",
       "      <td>0.0</td>\n",
       "      <td>281.0</td>\n",
       "      <td>0.0</td>\n",
       "      <td>0.0</td>\n",
       "      <td>281</td>\n",
       "      <td>0.0000</td>\n",
       "      <td>13384.357</td>\n",
       "      <td>0.000</td>\n",
       "      <td>0.0000</td>\n",
       "      <td>1.338436e+04</td>\n",
       "    </tr>\n",
       "    <tr>\n",
       "      <th>Delaware</th>\n",
       "      <td>0.0000</td>\n",
       "      <td>9974.2934</td>\n",
       "      <td>0.0000</td>\n",
       "      <td>0.0000</td>\n",
       "      <td>9974.2934</td>\n",
       "      <td>0.0</td>\n",
       "      <td>365.0</td>\n",
       "      <td>0.0</td>\n",
       "      <td>0.0</td>\n",
       "      <td>365</td>\n",
       "      <td>0.0000</td>\n",
       "      <td>27441.129</td>\n",
       "      <td>0.000</td>\n",
       "      <td>0.0000</td>\n",
       "      <td>2.744113e+04</td>\n",
       "    </tr>\n",
       "    <tr>\n",
       "      <th>District of Columbia</th>\n",
       "      <td>0.0000</td>\n",
       "      <td>1059.5893</td>\n",
       "      <td>0.0000</td>\n",
       "      <td>0.0000</td>\n",
       "      <td>1059.5893</td>\n",
       "      <td>0.0</td>\n",
       "      <td>40.0</td>\n",
       "      <td>0.0</td>\n",
       "      <td>0.0</td>\n",
       "      <td>40</td>\n",
       "      <td>0.0000</td>\n",
       "      <td>2865.020</td>\n",
       "      <td>0.000</td>\n",
       "      <td>0.0000</td>\n",
       "      <td>2.865020e+03</td>\n",
       "    </tr>\n",
       "    <tr>\n",
       "      <th>Florida</th>\n",
       "      <td>0.0000</td>\n",
       "      <td>0.0000</td>\n",
       "      <td>-1844.0995</td>\n",
       "      <td>0.0000</td>\n",
       "      <td>-1844.0995</td>\n",
       "      <td>0.0</td>\n",
       "      <td>0.0</td>\n",
       "      <td>1281.0</td>\n",
       "      <td>0.0</td>\n",
       "      <td>1281</td>\n",
       "      <td>0.0000</td>\n",
       "      <td>0.000</td>\n",
       "      <td>63367.707</td>\n",
       "      <td>0.0000</td>\n",
       "      <td>6.336771e+04</td>\n",
       "    </tr>\n",
       "    <tr>\n",
       "      <th>Georgia</th>\n",
       "      <td>0.0000</td>\n",
       "      <td>0.0000</td>\n",
       "      <td>16178.8255</td>\n",
       "      <td>0.0000</td>\n",
       "      <td>16178.8255</td>\n",
       "      <td>0.0</td>\n",
       "      <td>0.0</td>\n",
       "      <td>697.0</td>\n",
       "      <td>0.0</td>\n",
       "      <td>697</td>\n",
       "      <td>0.0000</td>\n",
       "      <td>0.000</td>\n",
       "      <td>48933.110</td>\n",
       "      <td>0.0000</td>\n",
       "      <td>4.893311e+04</td>\n",
       "    </tr>\n",
       "    <tr>\n",
       "      <th>Idaho</th>\n",
       "      <td>0.0000</td>\n",
       "      <td>0.0000</td>\n",
       "      <td>0.0000</td>\n",
       "      <td>826.7231</td>\n",
       "      <td>826.7231</td>\n",
       "      <td>0.0</td>\n",
       "      <td>0.0</td>\n",
       "      <td>0.0</td>\n",
       "      <td>64.0</td>\n",
       "      <td>64</td>\n",
       "      <td>0.0000</td>\n",
       "      <td>0.000</td>\n",
       "      <td>0.000</td>\n",
       "      <td>4382.4860</td>\n",
       "      <td>4.382486e+03</td>\n",
       "    </tr>\n",
       "    <tr>\n",
       "      <th>Illinois</th>\n",
       "      <td>-12514.4656</td>\n",
       "      <td>0.0000</td>\n",
       "      <td>0.0000</td>\n",
       "      <td>0.0000</td>\n",
       "      <td>-12514.4656</td>\n",
       "      <td>1803.0</td>\n",
       "      <td>0.0</td>\n",
       "      <td>0.0</td>\n",
       "      <td>0.0</td>\n",
       "      <td>1803</td>\n",
       "      <td>78571.0850</td>\n",
       "      <td>0.000</td>\n",
       "      <td>0.000</td>\n",
       "      <td>0.0000</td>\n",
       "      <td>7.857109e+04</td>\n",
       "    </tr>\n",
       "    <tr>\n",
       "      <th>Indiana</th>\n",
       "      <td>18347.0839</td>\n",
       "      <td>0.0000</td>\n",
       "      <td>0.0000</td>\n",
       "      <td>0.0000</td>\n",
       "      <td>18347.0839</td>\n",
       "      <td>566.0</td>\n",
       "      <td>0.0</td>\n",
       "      <td>0.0</td>\n",
       "      <td>0.0</td>\n",
       "      <td>566</td>\n",
       "      <td>53450.5100</td>\n",
       "      <td>0.000</td>\n",
       "      <td>0.000</td>\n",
       "      <td>0.0000</td>\n",
       "      <td>5.345051e+04</td>\n",
       "    </tr>\n",
       "    <tr>\n",
       "      <th>Iowa</th>\n",
       "      <td>1183.8119</td>\n",
       "      <td>0.0000</td>\n",
       "      <td>0.0000</td>\n",
       "      <td>0.0000</td>\n",
       "      <td>1183.8119</td>\n",
       "      <td>112.0</td>\n",
       "      <td>0.0</td>\n",
       "      <td>0.0</td>\n",
       "      <td>0.0</td>\n",
       "      <td>112</td>\n",
       "      <td>4579.7600</td>\n",
       "      <td>0.000</td>\n",
       "      <td>0.000</td>\n",
       "      <td>0.0000</td>\n",
       "      <td>4.579760e+03</td>\n",
       "    </tr>\n",
       "    <tr>\n",
       "      <th>Kansas</th>\n",
       "      <td>836.4435</td>\n",
       "      <td>0.0000</td>\n",
       "      <td>0.0000</td>\n",
       "      <td>0.0000</td>\n",
       "      <td>836.4435</td>\n",
       "      <td>74.0</td>\n",
       "      <td>0.0</td>\n",
       "      <td>0.0</td>\n",
       "      <td>0.0</td>\n",
       "      <td>74</td>\n",
       "      <td>2914.3100</td>\n",
       "      <td>0.000</td>\n",
       "      <td>0.000</td>\n",
       "      <td>0.0000</td>\n",
       "      <td>2.914310e+03</td>\n",
       "    </tr>\n",
       "    <tr>\n",
       "      <th>Kentucky</th>\n",
       "      <td>0.0000</td>\n",
       "      <td>0.0000</td>\n",
       "      <td>9632.2314</td>\n",
       "      <td>0.0000</td>\n",
       "      <td>9632.2314</td>\n",
       "      <td>0.0</td>\n",
       "      <td>0.0</td>\n",
       "      <td>488.0</td>\n",
       "      <td>0.0</td>\n",
       "      <td>488</td>\n",
       "      <td>0.0000</td>\n",
       "      <td>0.000</td>\n",
       "      <td>31434.240</td>\n",
       "      <td>0.0000</td>\n",
       "      <td>3.143424e+04</td>\n",
       "    </tr>\n",
       "    <tr>\n",
       "      <th>Louisiana</th>\n",
       "      <td>0.0000</td>\n",
       "      <td>0.0000</td>\n",
       "      <td>1869.5351</td>\n",
       "      <td>0.0000</td>\n",
       "      <td>1869.5351</td>\n",
       "      <td>0.0</td>\n",
       "      <td>0.0</td>\n",
       "      <td>136.0</td>\n",
       "      <td>0.0</td>\n",
       "      <td>136</td>\n",
       "      <td>0.0000</td>\n",
       "      <td>0.000</td>\n",
       "      <td>7929.770</td>\n",
       "      <td>0.0000</td>\n",
       "      <td>7.929770e+03</td>\n",
       "    </tr>\n",
       "    <tr>\n",
       "      <th>Maine</th>\n",
       "      <td>0.0000</td>\n",
       "      <td>454.4862</td>\n",
       "      <td>0.0000</td>\n",
       "      <td>0.0000</td>\n",
       "      <td>454.4862</td>\n",
       "      <td>0.0</td>\n",
       "      <td>35.0</td>\n",
       "      <td>0.0</td>\n",
       "      <td>0.0</td>\n",
       "      <td>35</td>\n",
       "      <td>0.0000</td>\n",
       "      <td>1270.530</td>\n",
       "      <td>0.000</td>\n",
       "      <td>0.0000</td>\n",
       "      <td>1.270530e+03</td>\n",
       "    </tr>\n",
       "    <tr>\n",
       "      <th>Maryland</th>\n",
       "      <td>0.0000</td>\n",
       "      <td>7031.1788</td>\n",
       "      <td>0.0000</td>\n",
       "      <td>0.0000</td>\n",
       "      <td>7031.1788</td>\n",
       "      <td>0.0</td>\n",
       "      <td>420.0</td>\n",
       "      <td>0.0</td>\n",
       "      <td>0.0</td>\n",
       "      <td>420</td>\n",
       "      <td>0.0000</td>\n",
       "      <td>23705.523</td>\n",
       "      <td>0.000</td>\n",
       "      <td>0.0000</td>\n",
       "      <td>2.370552e+04</td>\n",
       "    </tr>\n",
       "    <tr>\n",
       "      <th>Massachusetts</th>\n",
       "      <td>0.0000</td>\n",
       "      <td>6785.5016</td>\n",
       "      <td>0.0000</td>\n",
       "      <td>0.0000</td>\n",
       "      <td>6785.5016</td>\n",
       "      <td>0.0</td>\n",
       "      <td>491.0</td>\n",
       "      <td>0.0</td>\n",
       "      <td>0.0</td>\n",
       "      <td>491</td>\n",
       "      <td>0.0000</td>\n",
       "      <td>28634.434</td>\n",
       "      <td>0.000</td>\n",
       "      <td>0.0000</td>\n",
       "      <td>2.863443e+04</td>\n",
       "    </tr>\n",
       "    <tr>\n",
       "      <th>Michigan</th>\n",
       "      <td>24257.2404</td>\n",
       "      <td>0.0000</td>\n",
       "      <td>0.0000</td>\n",
       "      <td>0.0000</td>\n",
       "      <td>24257.2404</td>\n",
       "      <td>914.0</td>\n",
       "      <td>0.0</td>\n",
       "      <td>0.0</td>\n",
       "      <td>0.0</td>\n",
       "      <td>914</td>\n",
       "      <td>75298.1180</td>\n",
       "      <td>0.000</td>\n",
       "      <td>0.000</td>\n",
       "      <td>0.0000</td>\n",
       "      <td>7.529812e+04</td>\n",
       "    </tr>\n",
       "    <tr>\n",
       "      <th>Minnesota</th>\n",
       "      <td>10714.9956</td>\n",
       "      <td>0.0000</td>\n",
       "      <td>0.0000</td>\n",
       "      <td>0.0000</td>\n",
       "      <td>10714.9956</td>\n",
       "      <td>300.0</td>\n",
       "      <td>0.0</td>\n",
       "      <td>0.0</td>\n",
       "      <td>0.0</td>\n",
       "      <td>300</td>\n",
       "      <td>29613.2300</td>\n",
       "      <td>0.000</td>\n",
       "      <td>0.000</td>\n",
       "      <td>0.0000</td>\n",
       "      <td>2.961323e+04</td>\n",
       "    </tr>\n",
       "    <tr>\n",
       "      <th>Mississippi</th>\n",
       "      <td>0.0000</td>\n",
       "      <td>0.0000</td>\n",
       "      <td>3130.1639</td>\n",
       "      <td>0.0000</td>\n",
       "      <td>3130.1639</td>\n",
       "      <td>0.0</td>\n",
       "      <td>0.0</td>\n",
       "      <td>207.0</td>\n",
       "      <td>0.0</td>\n",
       "      <td>207</td>\n",
       "      <td>0.0000</td>\n",
       "      <td>0.000</td>\n",
       "      <td>10667.840</td>\n",
       "      <td>0.0000</td>\n",
       "      <td>1.066784e+04</td>\n",
       "    </tr>\n",
       "    <tr>\n",
       "      <th>Missouri</th>\n",
       "      <td>6329.4194</td>\n",
       "      <td>0.0000</td>\n",
       "      <td>0.0000</td>\n",
       "      <td>0.0000</td>\n",
       "      <td>6329.4194</td>\n",
       "      <td>238.0</td>\n",
       "      <td>0.0</td>\n",
       "      <td>0.0</td>\n",
       "      <td>0.0</td>\n",
       "      <td>238</td>\n",
       "      <td>21669.8800</td>\n",
       "      <td>0.000</td>\n",
       "      <td>0.000</td>\n",
       "      <td>0.0000</td>\n",
       "      <td>2.166988e+04</td>\n",
       "    </tr>\n",
       "    <tr>\n",
       "      <th>Montana</th>\n",
       "      <td>0.0000</td>\n",
       "      <td>0.0000</td>\n",
       "      <td>0.0000</td>\n",
       "      <td>1833.3285</td>\n",
       "      <td>1833.3285</td>\n",
       "      <td>0.0</td>\n",
       "      <td>0.0</td>\n",
       "      <td>0.0</td>\n",
       "      <td>56.0</td>\n",
       "      <td>56</td>\n",
       "      <td>0.0000</td>\n",
       "      <td>0.000</td>\n",
       "      <td>0.000</td>\n",
       "      <td>5589.3520</td>\n",
       "      <td>5.589352e+03</td>\n",
       "    </tr>\n",
       "    <tr>\n",
       "      <th>Nebraska</th>\n",
       "      <td>2037.0942</td>\n",
       "      <td>0.0000</td>\n",
       "      <td>0.0000</td>\n",
       "      <td>0.0000</td>\n",
       "      <td>2037.0942</td>\n",
       "      <td>136.0</td>\n",
       "      <td>0.0</td>\n",
       "      <td>0.0</td>\n",
       "      <td>0.0</td>\n",
       "      <td>136</td>\n",
       "      <td>7464.9300</td>\n",
       "      <td>0.000</td>\n",
       "      <td>0.000</td>\n",
       "      <td>0.0000</td>\n",
       "      <td>7.464930e+03</td>\n",
       "    </tr>\n",
       "    <tr>\n",
       "      <th>Nevada</th>\n",
       "      <td>0.0000</td>\n",
       "      <td>0.0000</td>\n",
       "      <td>0.0000</td>\n",
       "      <td>3291.9947</td>\n",
       "      <td>3291.9947</td>\n",
       "      <td>0.0</td>\n",
       "      <td>0.0</td>\n",
       "      <td>0.0</td>\n",
       "      <td>160.0</td>\n",
       "      <td>160</td>\n",
       "      <td>0.0000</td>\n",
       "      <td>0.000</td>\n",
       "      <td>0.000</td>\n",
       "      <td>16674.4620</td>\n",
       "      <td>1.667446e+04</td>\n",
       "    </tr>\n",
       "    <tr>\n",
       "      <th>New Hampshire</th>\n",
       "      <td>0.0000</td>\n",
       "      <td>1706.5028</td>\n",
       "      <td>0.0000</td>\n",
       "      <td>0.0000</td>\n",
       "      <td>1706.5028</td>\n",
       "      <td>0.0</td>\n",
       "      <td>127.0</td>\n",
       "      <td>0.0</td>\n",
       "      <td>0.0</td>\n",
       "      <td>127</td>\n",
       "      <td>0.0000</td>\n",
       "      <td>7292.524</td>\n",
       "      <td>0.000</td>\n",
       "      <td>0.0000</td>\n",
       "      <td>7.292524e+03</td>\n",
       "    </tr>\n",
       "    <tr>\n",
       "      <th>New Jersey</th>\n",
       "      <td>0.0000</td>\n",
       "      <td>9723.3090</td>\n",
       "      <td>0.0000</td>\n",
       "      <td>0.0000</td>\n",
       "      <td>9723.3090</td>\n",
       "      <td>0.0</td>\n",
       "      <td>447.0</td>\n",
       "      <td>0.0</td>\n",
       "      <td>0.0</td>\n",
       "      <td>447</td>\n",
       "      <td>0.0000</td>\n",
       "      <td>35648.952</td>\n",
       "      <td>0.000</td>\n",
       "      <td>0.0000</td>\n",
       "      <td>3.564895e+04</td>\n",
       "    </tr>\n",
       "    <tr>\n",
       "      <th>New Mexico</th>\n",
       "      <td>0.0000</td>\n",
       "      <td>0.0000</td>\n",
       "      <td>0.0000</td>\n",
       "      <td>1157.1161</td>\n",
       "      <td>1157.1161</td>\n",
       "      <td>0.0</td>\n",
       "      <td>0.0</td>\n",
       "      <td>0.0</td>\n",
       "      <td>151.0</td>\n",
       "      <td>151</td>\n",
       "      <td>0.0000</td>\n",
       "      <td>0.000</td>\n",
       "      <td>0.000</td>\n",
       "      <td>4783.5220</td>\n",
       "      <td>4.783522e+03</td>\n",
       "    </tr>\n",
       "    <tr>\n",
       "      <th>New York</th>\n",
       "      <td>0.0000</td>\n",
       "      <td>74655.2410</td>\n",
       "      <td>0.0000</td>\n",
       "      <td>0.0000</td>\n",
       "      <td>74655.2410</td>\n",
       "      <td>0.0</td>\n",
       "      <td>4135.0</td>\n",
       "      <td>0.0</td>\n",
       "      <td>0.0</td>\n",
       "      <td>4135</td>\n",
       "      <td>0.0000</td>\n",
       "      <td>306287.601</td>\n",
       "      <td>0.000</td>\n",
       "      <td>0.0000</td>\n",
       "      <td>3.062876e+05</td>\n",
       "    </tr>\n",
       "    <tr>\n",
       "      <th>North Carolina</th>\n",
       "      <td>0.0000</td>\n",
       "      <td>0.0000</td>\n",
       "      <td>-7474.6305</td>\n",
       "      <td>0.0000</td>\n",
       "      <td>-7474.6305</td>\n",
       "      <td>0.0</td>\n",
       "      <td>0.0</td>\n",
       "      <td>967.0</td>\n",
       "      <td>0.0</td>\n",
       "      <td>967</td>\n",
       "      <td>0.0000</td>\n",
       "      <td>0.000</td>\n",
       "      <td>55036.407</td>\n",
       "      <td>0.0000</td>\n",
       "      <td>5.503641e+04</td>\n",
       "    </tr>\n",
       "    <tr>\n",
       "      <th>North Dakota</th>\n",
       "      <td>230.1497</td>\n",
       "      <td>0.0000</td>\n",
       "      <td>0.0000</td>\n",
       "      <td>0.0000</td>\n",
       "      <td>230.1497</td>\n",
       "      <td>30.0</td>\n",
       "      <td>0.0</td>\n",
       "      <td>0.0</td>\n",
       "      <td>0.0</td>\n",
       "      <td>30</td>\n",
       "      <td>919.9100</td>\n",
       "      <td>0.000</td>\n",
       "      <td>0.000</td>\n",
       "      <td>0.0000</td>\n",
       "      <td>9.199100e+02</td>\n",
       "    </tr>\n",
       "    <tr>\n",
       "      <th>Ohio</th>\n",
       "      <td>0.0000</td>\n",
       "      <td>-16787.3786</td>\n",
       "      <td>0.0000</td>\n",
       "      <td>0.0000</td>\n",
       "      <td>-16787.3786</td>\n",
       "      <td>0.0</td>\n",
       "      <td>1714.0</td>\n",
       "      <td>0.0</td>\n",
       "      <td>0.0</td>\n",
       "      <td>1714</td>\n",
       "      <td>0.0000</td>\n",
       "      <td>77803.352</td>\n",
       "      <td>0.000</td>\n",
       "      <td>0.0000</td>\n",
       "      <td>7.780335e+04</td>\n",
       "    </tr>\n",
       "    <tr>\n",
       "      <th>Oklahoma</th>\n",
       "      <td>4853.9560</td>\n",
       "      <td>0.0000</td>\n",
       "      <td>0.0000</td>\n",
       "      <td>0.0000</td>\n",
       "      <td>4853.9560</td>\n",
       "      <td>247.0</td>\n",
       "      <td>0.0</td>\n",
       "      <td>0.0</td>\n",
       "      <td>0.0</td>\n",
       "      <td>247</td>\n",
       "      <td>19683.3900</td>\n",
       "      <td>0.000</td>\n",
       "      <td>0.000</td>\n",
       "      <td>0.0000</td>\n",
       "      <td>1.968339e+04</td>\n",
       "    </tr>\n",
       "    <tr>\n",
       "      <th>Oregon</th>\n",
       "      <td>0.0000</td>\n",
       "      <td>0.0000</td>\n",
       "      <td>0.0000</td>\n",
       "      <td>-1215.7462</td>\n",
       "      <td>-1215.7462</td>\n",
       "      <td>0.0</td>\n",
       "      <td>0.0</td>\n",
       "      <td>0.0</td>\n",
       "      <td>488.0</td>\n",
       "      <td>488</td>\n",
       "      <td>0.0000</td>\n",
       "      <td>0.000</td>\n",
       "      <td>0.000</td>\n",
       "      <td>17310.6140</td>\n",
       "      <td>1.731061e+04</td>\n",
       "    </tr>\n",
       "    <tr>\n",
       "      <th>Pennsylvania</th>\n",
       "      <td>0.0000</td>\n",
       "      <td>-15579.3816</td>\n",
       "      <td>0.0000</td>\n",
       "      <td>0.0000</td>\n",
       "      <td>-15579.3816</td>\n",
       "      <td>0.0</td>\n",
       "      <td>2121.0</td>\n",
       "      <td>0.0</td>\n",
       "      <td>0.0</td>\n",
       "      <td>2121</td>\n",
       "      <td>0.0000</td>\n",
       "      <td>115848.354</td>\n",
       "      <td>0.000</td>\n",
       "      <td>0.0000</td>\n",
       "      <td>1.158484e+05</td>\n",
       "    </tr>\n",
       "    <tr>\n",
       "      <th>Rhode Island</th>\n",
       "      <td>0.0000</td>\n",
       "      <td>7285.6293</td>\n",
       "      <td>0.0000</td>\n",
       "      <td>0.0000</td>\n",
       "      <td>7285.6293</td>\n",
       "      <td>0.0</td>\n",
       "      <td>199.0</td>\n",
       "      <td>0.0</td>\n",
       "      <td>0.0</td>\n",
       "      <td>199</td>\n",
       "      <td>0.0000</td>\n",
       "      <td>22627.956</td>\n",
       "      <td>0.000</td>\n",
       "      <td>0.0000</td>\n",
       "      <td>2.262796e+04</td>\n",
       "    </tr>\n",
       "    <tr>\n",
       "      <th>South Carolina</th>\n",
       "      <td>0.0000</td>\n",
       "      <td>0.0000</td>\n",
       "      <td>1663.9612</td>\n",
       "      <td>0.0000</td>\n",
       "      <td>1663.9612</td>\n",
       "      <td>0.0</td>\n",
       "      <td>0.0</td>\n",
       "      <td>161.0</td>\n",
       "      <td>0.0</td>\n",
       "      <td>161</td>\n",
       "      <td>0.0000</td>\n",
       "      <td>0.000</td>\n",
       "      <td>7580.870</td>\n",
       "      <td>0.0000</td>\n",
       "      <td>7.580870e+03</td>\n",
       "    </tr>\n",
       "    <tr>\n",
       "      <th>South Dakota</th>\n",
       "      <td>350.0599</td>\n",
       "      <td>0.0000</td>\n",
       "      <td>0.0000</td>\n",
       "      <td>0.0000</td>\n",
       "      <td>350.0599</td>\n",
       "      <td>38.0</td>\n",
       "      <td>0.0</td>\n",
       "      <td>0.0</td>\n",
       "      <td>0.0</td>\n",
       "      <td>38</td>\n",
       "      <td>1162.9200</td>\n",
       "      <td>0.000</td>\n",
       "      <td>0.000</td>\n",
       "      <td>0.0000</td>\n",
       "      <td>1.162920e+03</td>\n",
       "    </tr>\n",
       "    <tr>\n",
       "      <th>Tennessee</th>\n",
       "      <td>0.0000</td>\n",
       "      <td>0.0000</td>\n",
       "      <td>-5308.0498</td>\n",
       "      <td>0.0000</td>\n",
       "      <td>-5308.0498</td>\n",
       "      <td>0.0</td>\n",
       "      <td>0.0</td>\n",
       "      <td>669.0</td>\n",
       "      <td>0.0</td>\n",
       "      <td>669</td>\n",
       "      <td>0.0000</td>\n",
       "      <td>0.000</td>\n",
       "      <td>30284.151</td>\n",
       "      <td>0.0000</td>\n",
       "      <td>3.028415e+04</td>\n",
       "    </tr>\n",
       "    <tr>\n",
       "      <th>Texas</th>\n",
       "      <td>-25098.3481</td>\n",
       "      <td>0.0000</td>\n",
       "      <td>0.0000</td>\n",
       "      <td>0.0000</td>\n",
       "      <td>-25098.3481</td>\n",
       "      <td>3651.0</td>\n",
       "      <td>0.0</td>\n",
       "      <td>0.0</td>\n",
       "      <td>0.0</td>\n",
       "      <td>3651</td>\n",
       "      <td>168679.5208</td>\n",
       "      <td>0.000</td>\n",
       "      <td>0.000</td>\n",
       "      <td>0.0000</td>\n",
       "      <td>1.686795e+05</td>\n",
       "    </tr>\n",
       "    <tr>\n",
       "      <th>Utah</th>\n",
       "      <td>0.0000</td>\n",
       "      <td>0.0000</td>\n",
       "      <td>0.0000</td>\n",
       "      <td>2499.5703</td>\n",
       "      <td>2499.5703</td>\n",
       "      <td>0.0</td>\n",
       "      <td>0.0</td>\n",
       "      <td>0.0</td>\n",
       "      <td>198.0</td>\n",
       "      <td>198</td>\n",
       "      <td>0.0000</td>\n",
       "      <td>0.000</td>\n",
       "      <td>0.000</td>\n",
       "      <td>10939.7800</td>\n",
       "      <td>1.093978e+04</td>\n",
       "    </tr>\n",
       "    <tr>\n",
       "      <th>Vermont</th>\n",
       "      <td>0.0000</td>\n",
       "      <td>2244.9783</td>\n",
       "      <td>0.0000</td>\n",
       "      <td>0.0000</td>\n",
       "      <td>2244.9783</td>\n",
       "      <td>0.0</td>\n",
       "      <td>50.0</td>\n",
       "      <td>0.0</td>\n",
       "      <td>0.0</td>\n",
       "      <td>50</td>\n",
       "      <td>0.0000</td>\n",
       "      <td>8929.370</td>\n",
       "      <td>0.000</td>\n",
       "      <td>0.0000</td>\n",
       "      <td>8.929370e+03</td>\n",
       "    </tr>\n",
       "    <tr>\n",
       "      <th>Virginia</th>\n",
       "      <td>0.0000</td>\n",
       "      <td>0.0000</td>\n",
       "      <td>16868.1915</td>\n",
       "      <td>0.0000</td>\n",
       "      <td>16868.1915</td>\n",
       "      <td>0.0</td>\n",
       "      <td>0.0</td>\n",
       "      <td>810.0</td>\n",
       "      <td>0.0</td>\n",
       "      <td>810</td>\n",
       "      <td>0.0000</td>\n",
       "      <td>0.000</td>\n",
       "      <td>62898.110</td>\n",
       "      <td>0.0000</td>\n",
       "      <td>6.289811e+04</td>\n",
       "    </tr>\n",
       "    <tr>\n",
       "      <th>Washington</th>\n",
       "      <td>0.0000</td>\n",
       "      <td>0.0000</td>\n",
       "      <td>0.0000</td>\n",
       "      <td>33064.1406</td>\n",
       "      <td>33064.1406</td>\n",
       "      <td>0.0</td>\n",
       "      <td>0.0</td>\n",
       "      <td>0.0</td>\n",
       "      <td>1837.0</td>\n",
       "      <td>1837</td>\n",
       "      <td>0.0000</td>\n",
       "      <td>0.000</td>\n",
       "      <td>0.000</td>\n",
       "      <td>135943.6180</td>\n",
       "      <td>1.359436e+05</td>\n",
       "    </tr>\n",
       "    <tr>\n",
       "      <th>West Virginia</th>\n",
       "      <td>0.0000</td>\n",
       "      <td>185.9216</td>\n",
       "      <td>0.0000</td>\n",
       "      <td>0.0000</td>\n",
       "      <td>185.9216</td>\n",
       "      <td>0.0</td>\n",
       "      <td>18.0</td>\n",
       "      <td>0.0</td>\n",
       "      <td>0.0</td>\n",
       "      <td>18</td>\n",
       "      <td>0.0000</td>\n",
       "      <td>1209.824</td>\n",
       "      <td>0.000</td>\n",
       "      <td>0.0000</td>\n",
       "      <td>1.209824e+03</td>\n",
       "    </tr>\n",
       "    <tr>\n",
       "      <th>Wisconsin</th>\n",
       "      <td>8195.4844</td>\n",
       "      <td>0.0000</td>\n",
       "      <td>0.0000</td>\n",
       "      <td>0.0000</td>\n",
       "      <td>8195.4844</td>\n",
       "      <td>457.0</td>\n",
       "      <td>0.0</td>\n",
       "      <td>0.0</td>\n",
       "      <td>0.0</td>\n",
       "      <td>457</td>\n",
       "      <td>31645.7100</td>\n",
       "      <td>0.000</td>\n",
       "      <td>0.000</td>\n",
       "      <td>0.0000</td>\n",
       "      <td>3.164571e+04</td>\n",
       "    </tr>\n",
       "    <tr>\n",
       "      <th>Wyoming</th>\n",
       "      <td>0.0000</td>\n",
       "      <td>0.0000</td>\n",
       "      <td>0.0000</td>\n",
       "      <td>100.1960</td>\n",
       "      <td>100.1960</td>\n",
       "      <td>0.0</td>\n",
       "      <td>0.0</td>\n",
       "      <td>0.0</td>\n",
       "      <td>4.0</td>\n",
       "      <td>4</td>\n",
       "      <td>0.0000</td>\n",
       "      <td>0.000</td>\n",
       "      <td>0.000</td>\n",
       "      <td>1603.1360</td>\n",
       "      <td>1.603136e+03</td>\n",
       "    </tr>\n",
       "    <tr>\n",
       "      <th>Grand Total</th>\n",
       "      <td>39722.9252</td>\n",
       "      <td>92251.3629</td>\n",
       "      <td>44074.3937</td>\n",
       "      <td>106934.6227</td>\n",
       "      <td>282983.3045</td>\n",
       "      <td>8566.0</td>\n",
       "      <td>10443.0</td>\n",
       "      <td>5885.0</td>\n",
       "      <td>12020.0</td>\n",
       "      <td>36914</td>\n",
       "      <td>495653.2738</td>\n",
       "      <td>672948.926</td>\n",
       "      <td>347461.575</td>\n",
       "      <td>711747.0775</td>\n",
       "      <td>2.227811e+06</td>\n",
       "    </tr>\n",
       "  </tbody>\n",
       "</table>\n",
       "</div>"
      ],
      "text/plain": [
       "                          Profit                                       \\\n",
       "Region                   Central        East       South         West   \n",
       "State                                                                   \n",
       "Alabama                   0.0000      0.0000   5786.8253       0.0000   \n",
       "Arizona                   0.0000      0.0000      0.0000   -3127.7974   \n",
       "Arkansas                  0.0000      0.0000   3571.4396       0.0000   \n",
       "California                0.0000      0.0000      0.0000   75026.4011   \n",
       "Colorado                  0.0000      0.0000      0.0000   -6521.3041   \n",
       "Connecticut               0.0000   3511.4918      0.0000       0.0000   \n",
       "Delaware                  0.0000   9974.2934      0.0000       0.0000   \n",
       "District of Columbia      0.0000   1059.5893      0.0000       0.0000   \n",
       "Florida                   0.0000      0.0000  -1844.0995       0.0000   \n",
       "Georgia                   0.0000      0.0000  16178.8255       0.0000   \n",
       "Idaho                     0.0000      0.0000      0.0000     826.7231   \n",
       "Illinois             -12514.4656      0.0000      0.0000       0.0000   \n",
       "Indiana               18347.0839      0.0000      0.0000       0.0000   \n",
       "Iowa                   1183.8119      0.0000      0.0000       0.0000   \n",
       "Kansas                  836.4435      0.0000      0.0000       0.0000   \n",
       "Kentucky                  0.0000      0.0000   9632.2314       0.0000   \n",
       "Louisiana                 0.0000      0.0000   1869.5351       0.0000   \n",
       "Maine                     0.0000    454.4862      0.0000       0.0000   \n",
       "Maryland                  0.0000   7031.1788      0.0000       0.0000   \n",
       "Massachusetts             0.0000   6785.5016      0.0000       0.0000   \n",
       "Michigan              24257.2404      0.0000      0.0000       0.0000   \n",
       "Minnesota             10714.9956      0.0000      0.0000       0.0000   \n",
       "Mississippi               0.0000      0.0000   3130.1639       0.0000   \n",
       "Missouri               6329.4194      0.0000      0.0000       0.0000   \n",
       "Montana                   0.0000      0.0000      0.0000    1833.3285   \n",
       "Nebraska               2037.0942      0.0000      0.0000       0.0000   \n",
       "Nevada                    0.0000      0.0000      0.0000    3291.9947   \n",
       "New Hampshire             0.0000   1706.5028      0.0000       0.0000   \n",
       "New Jersey                0.0000   9723.3090      0.0000       0.0000   \n",
       "New Mexico                0.0000      0.0000      0.0000    1157.1161   \n",
       "New York                  0.0000  74655.2410      0.0000       0.0000   \n",
       "North Carolina            0.0000      0.0000  -7474.6305       0.0000   \n",
       "North Dakota            230.1497      0.0000      0.0000       0.0000   \n",
       "Ohio                      0.0000 -16787.3786      0.0000       0.0000   \n",
       "Oklahoma               4853.9560      0.0000      0.0000       0.0000   \n",
       "Oregon                    0.0000      0.0000      0.0000   -1215.7462   \n",
       "Pennsylvania              0.0000 -15579.3816      0.0000       0.0000   \n",
       "Rhode Island              0.0000   7285.6293      0.0000       0.0000   \n",
       "South Carolina            0.0000      0.0000   1663.9612       0.0000   \n",
       "South Dakota            350.0599      0.0000      0.0000       0.0000   \n",
       "Tennessee                 0.0000      0.0000  -5308.0498       0.0000   \n",
       "Texas                -25098.3481      0.0000      0.0000       0.0000   \n",
       "Utah                      0.0000      0.0000      0.0000    2499.5703   \n",
       "Vermont                   0.0000   2244.9783      0.0000       0.0000   \n",
       "Virginia                  0.0000      0.0000  16868.1915       0.0000   \n",
       "Washington                0.0000      0.0000      0.0000   33064.1406   \n",
       "West Virginia             0.0000    185.9216      0.0000       0.0000   \n",
       "Wisconsin              8195.4844      0.0000      0.0000       0.0000   \n",
       "Wyoming                   0.0000      0.0000      0.0000     100.1960   \n",
       "Grand Total           39722.9252  92251.3629  44074.3937  106934.6227   \n",
       "\n",
       "                                  Quantity                            \\\n",
       "Region                Grand Total  Central     East   South     West   \n",
       "State                                                                  \n",
       "Alabama                 5786.8253      0.0      0.0   256.0      0.0   \n",
       "Arizona                -3127.7974      0.0      0.0     0.0    832.0   \n",
       "Arkansas                3571.4396      0.0      0.0   213.0      0.0   \n",
       "California             75026.4011      0.0      0.0     0.0   7544.0   \n",
       "Colorado               -6521.3041      0.0      0.0     0.0    686.0   \n",
       "Connecticut             3511.4918      0.0    281.0     0.0      0.0   \n",
       "Delaware                9974.2934      0.0    365.0     0.0      0.0   \n",
       "District of Columbia    1059.5893      0.0     40.0     0.0      0.0   \n",
       "Florida                -1844.0995      0.0      0.0  1281.0      0.0   \n",
       "Georgia                16178.8255      0.0      0.0   697.0      0.0   \n",
       "Idaho                    826.7231      0.0      0.0     0.0     64.0   \n",
       "Illinois              -12514.4656   1803.0      0.0     0.0      0.0   \n",
       "Indiana                18347.0839    566.0      0.0     0.0      0.0   \n",
       "Iowa                    1183.8119    112.0      0.0     0.0      0.0   \n",
       "Kansas                   836.4435     74.0      0.0     0.0      0.0   \n",
       "Kentucky                9632.2314      0.0      0.0   488.0      0.0   \n",
       "Louisiana               1869.5351      0.0      0.0   136.0      0.0   \n",
       "Maine                    454.4862      0.0     35.0     0.0      0.0   \n",
       "Maryland                7031.1788      0.0    420.0     0.0      0.0   \n",
       "Massachusetts           6785.5016      0.0    491.0     0.0      0.0   \n",
       "Michigan               24257.2404    914.0      0.0     0.0      0.0   \n",
       "Minnesota              10714.9956    300.0      0.0     0.0      0.0   \n",
       "Mississippi             3130.1639      0.0      0.0   207.0      0.0   \n",
       "Missouri                6329.4194    238.0      0.0     0.0      0.0   \n",
       "Montana                 1833.3285      0.0      0.0     0.0     56.0   \n",
       "Nebraska                2037.0942    136.0      0.0     0.0      0.0   \n",
       "Nevada                  3291.9947      0.0      0.0     0.0    160.0   \n",
       "New Hampshire           1706.5028      0.0    127.0     0.0      0.0   \n",
       "New Jersey              9723.3090      0.0    447.0     0.0      0.0   \n",
       "New Mexico              1157.1161      0.0      0.0     0.0    151.0   \n",
       "New York               74655.2410      0.0   4135.0     0.0      0.0   \n",
       "North Carolina         -7474.6305      0.0      0.0   967.0      0.0   \n",
       "North Dakota             230.1497     30.0      0.0     0.0      0.0   \n",
       "Ohio                  -16787.3786      0.0   1714.0     0.0      0.0   \n",
       "Oklahoma                4853.9560    247.0      0.0     0.0      0.0   \n",
       "Oregon                 -1215.7462      0.0      0.0     0.0    488.0   \n",
       "Pennsylvania          -15579.3816      0.0   2121.0     0.0      0.0   \n",
       "Rhode Island            7285.6293      0.0    199.0     0.0      0.0   \n",
       "South Carolina          1663.9612      0.0      0.0   161.0      0.0   \n",
       "South Dakota             350.0599     38.0      0.0     0.0      0.0   \n",
       "Tennessee              -5308.0498      0.0      0.0   669.0      0.0   \n",
       "Texas                 -25098.3481   3651.0      0.0     0.0      0.0   \n",
       "Utah                    2499.5703      0.0      0.0     0.0    198.0   \n",
       "Vermont                 2244.9783      0.0     50.0     0.0      0.0   \n",
       "Virginia               16868.1915      0.0      0.0   810.0      0.0   \n",
       "Washington             33064.1406      0.0      0.0     0.0   1837.0   \n",
       "West Virginia            185.9216      0.0     18.0     0.0      0.0   \n",
       "Wisconsin               8195.4844    457.0      0.0     0.0      0.0   \n",
       "Wyoming                  100.1960      0.0      0.0     0.0      4.0   \n",
       "Grand Total           282983.3045   8566.0  10443.0  5885.0  12020.0   \n",
       "\n",
       "                                 Sales before Discount              \\\n",
       "Region               Grand Total               Central        East   \n",
       "State                                                                \n",
       "Alabama                      256                0.0000       0.000   \n",
       "Arizona                      832                0.0000       0.000   \n",
       "Arkansas                     213                0.0000       0.000   \n",
       "California                  7544                0.0000       0.000   \n",
       "Colorado                     686                0.0000       0.000   \n",
       "Connecticut                  281                0.0000   13384.357   \n",
       "Delaware                     365                0.0000   27441.129   \n",
       "District of Columbia          40                0.0000    2865.020   \n",
       "Florida                     1281                0.0000       0.000   \n",
       "Georgia                      697                0.0000       0.000   \n",
       "Idaho                         64                0.0000       0.000   \n",
       "Illinois                    1803            78571.0850       0.000   \n",
       "Indiana                      566            53450.5100       0.000   \n",
       "Iowa                         112             4579.7600       0.000   \n",
       "Kansas                        74             2914.3100       0.000   \n",
       "Kentucky                     488                0.0000       0.000   \n",
       "Louisiana                    136                0.0000       0.000   \n",
       "Maine                         35                0.0000    1270.530   \n",
       "Maryland                     420                0.0000   23705.523   \n",
       "Massachusetts                491                0.0000   28634.434   \n",
       "Michigan                     914            75298.1180       0.000   \n",
       "Minnesota                    300            29613.2300       0.000   \n",
       "Mississippi                  207                0.0000       0.000   \n",
       "Missouri                     238            21669.8800       0.000   \n",
       "Montana                       56                0.0000       0.000   \n",
       "Nebraska                     136             7464.9300       0.000   \n",
       "Nevada                       160                0.0000       0.000   \n",
       "New Hampshire                127                0.0000    7292.524   \n",
       "New Jersey                   447                0.0000   35648.952   \n",
       "New Mexico                   151                0.0000       0.000   \n",
       "New York                    4135                0.0000  306287.601   \n",
       "North Carolina               967                0.0000       0.000   \n",
       "North Dakota                  30              919.9100       0.000   \n",
       "Ohio                        1714                0.0000   77803.352   \n",
       "Oklahoma                     247            19683.3900       0.000   \n",
       "Oregon                       488                0.0000       0.000   \n",
       "Pennsylvania                2121                0.0000  115848.354   \n",
       "Rhode Island                 199                0.0000   22627.956   \n",
       "South Carolina               161                0.0000       0.000   \n",
       "South Dakota                  38             1162.9200       0.000   \n",
       "Tennessee                    669                0.0000       0.000   \n",
       "Texas                       3651           168679.5208       0.000   \n",
       "Utah                         198                0.0000       0.000   \n",
       "Vermont                       50                0.0000    8929.370   \n",
       "Virginia                     810                0.0000       0.000   \n",
       "Washington                  1837                0.0000       0.000   \n",
       "West Virginia                 18                0.0000    1209.824   \n",
       "Wisconsin                    457            31645.7100       0.000   \n",
       "Wyoming                        4                0.0000       0.000   \n",
       "Grand Total                36914           495653.2738  672948.926   \n",
       "\n",
       "                                                             \n",
       "Region                     South         West   Grand Total  \n",
       "State                                                        \n",
       "Alabama                19510.640       0.0000  1.951064e+04  \n",
       "Arizona                    0.000   34514.7030  3.451470e+04  \n",
       "Arkansas                9818.730       0.0000  9.818730e+03  \n",
       "California                 0.000  448616.8625  4.486169e+05  \n",
       "Colorado                   0.000   31388.5420  3.138854e+04  \n",
       "Connecticut                0.000       0.0000  1.338436e+04  \n",
       "Delaware                   0.000       0.0000  2.744113e+04  \n",
       "District of Columbia       0.000       0.0000  2.865020e+03  \n",
       "Florida                63367.707       0.0000  6.336771e+04  \n",
       "Georgia                48933.110       0.0000  4.893311e+04  \n",
       "Idaho                      0.000    4382.4860  4.382486e+03  \n",
       "Illinois                   0.000       0.0000  7.857109e+04  \n",
       "Indiana                    0.000       0.0000  5.345051e+04  \n",
       "Iowa                       0.000       0.0000  4.579760e+03  \n",
       "Kansas                     0.000       0.0000  2.914310e+03  \n",
       "Kentucky               31434.240       0.0000  3.143424e+04  \n",
       "Louisiana               7929.770       0.0000  7.929770e+03  \n",
       "Maine                      0.000       0.0000  1.270530e+03  \n",
       "Maryland                   0.000       0.0000  2.370552e+04  \n",
       "Massachusetts              0.000       0.0000  2.863443e+04  \n",
       "Michigan                   0.000       0.0000  7.529812e+04  \n",
       "Minnesota                  0.000       0.0000  2.961323e+04  \n",
       "Mississippi            10667.840       0.0000  1.066784e+04  \n",
       "Missouri                   0.000       0.0000  2.166988e+04  \n",
       "Montana                    0.000    5589.3520  5.589352e+03  \n",
       "Nebraska                   0.000       0.0000  7.464930e+03  \n",
       "Nevada                     0.000   16674.4620  1.667446e+04  \n",
       "New Hampshire              0.000       0.0000  7.292524e+03  \n",
       "New Jersey                 0.000       0.0000  3.564895e+04  \n",
       "New Mexico                 0.000    4783.5220  4.783522e+03  \n",
       "New York                   0.000       0.0000  3.062876e+05  \n",
       "North Carolina         55036.407       0.0000  5.503641e+04  \n",
       "North Dakota               0.000       0.0000  9.199100e+02  \n",
       "Ohio                       0.000       0.0000  7.780335e+04  \n",
       "Oklahoma                   0.000       0.0000  1.968339e+04  \n",
       "Oregon                     0.000   17310.6140  1.731061e+04  \n",
       "Pennsylvania               0.000       0.0000  1.158484e+05  \n",
       "Rhode Island               0.000       0.0000  2.262796e+04  \n",
       "South Carolina          7580.870       0.0000  7.580870e+03  \n",
       "South Dakota               0.000       0.0000  1.162920e+03  \n",
       "Tennessee              30284.151       0.0000  3.028415e+04  \n",
       "Texas                      0.000       0.0000  1.686795e+05  \n",
       "Utah                       0.000   10939.7800  1.093978e+04  \n",
       "Vermont                    0.000       0.0000  8.929370e+03  \n",
       "Virginia               62898.110       0.0000  6.289811e+04  \n",
       "Washington                 0.000  135943.6180  1.359436e+05  \n",
       "West Virginia              0.000       0.0000  1.209824e+03  \n",
       "Wisconsin                  0.000       0.0000  3.164571e+04  \n",
       "Wyoming                    0.000    1603.1360  1.603136e+03  \n",
       "Grand Total           347461.575  711747.0775  2.227811e+06  "
      ]
     },
     "execution_count": 133,
     "metadata": {},
     "output_type": "execute_result"
    }
   ],
   "source": [
    "pivot_1"
   ]
  },
  {
   "cell_type": "code",
   "execution_count": 134,
   "id": "c391e73a",
   "metadata": {},
   "outputs": [
    {
     "data": {
      "text/plain": [
       "<Worksheet \"SalesQ\">"
      ]
     },
     "execution_count": 134,
     "metadata": {},
     "output_type": "execute_result"
    }
   ],
   "source": [
    "wkb.create_sheet(\"SalesQ\")"
   ]
  },
  {
   "cell_type": "code",
   "execution_count": 135,
   "id": "b54c79ab",
   "metadata": {},
   "outputs": [],
   "source": [
    "#Set an  object\n",
    "state= wkb[\"SalesQ\"]"
   ]
  },
  {
   "cell_type": "code",
   "execution_count": 136,
   "id": "af6e90e8",
   "metadata": {},
   "outputs": [],
   "source": [
    "for row in dataframe_to_rows(pivot_1, index=True, header=True):\n",
    "    state.append(row)"
   ]
  },
  {
   "cell_type": "code",
   "execution_count": 137,
   "id": "7f3a3cf0",
   "metadata": {},
   "outputs": [
    {
     "data": {
      "text/html": [
       "<div>\n",
       "<style scoped>\n",
       "    .dataframe tbody tr th:only-of-type {\n",
       "        vertical-align: middle;\n",
       "    }\n",
       "\n",
       "    .dataframe tbody tr th {\n",
       "        vertical-align: top;\n",
       "    }\n",
       "\n",
       "    .dataframe thead th {\n",
       "        text-align: right;\n",
       "    }\n",
       "</style>\n",
       "<table border=\"1\" class=\"dataframe\">\n",
       "  <thead>\n",
       "    <tr style=\"text-align: right;\">\n",
       "      <th></th>\n",
       "      <th>Row ID</th>\n",
       "      <th>Order ID</th>\n",
       "      <th>Order Date</th>\n",
       "      <th>Ship Date</th>\n",
       "      <th>Ship Mode</th>\n",
       "      <th>Customer ID</th>\n",
       "      <th>Customer Name</th>\n",
       "      <th>Segment</th>\n",
       "      <th>Country</th>\n",
       "      <th>City</th>\n",
       "      <th>...</th>\n",
       "      <th>Region</th>\n",
       "      <th>Product ID</th>\n",
       "      <th>Category</th>\n",
       "      <th>Sub-Category</th>\n",
       "      <th>Product Name</th>\n",
       "      <th>Sales before Discount</th>\n",
       "      <th>Sales After Discount</th>\n",
       "      <th>Quantity</th>\n",
       "      <th>Discount</th>\n",
       "      <th>Profit</th>\n",
       "    </tr>\n",
       "  </thead>\n",
       "  <tbody>\n",
       "    <tr>\n",
       "      <th>0</th>\n",
       "      <td>1</td>\n",
       "      <td>CA-2016-152156</td>\n",
       "      <td>2016-11-08</td>\n",
       "      <td>2016-11-11</td>\n",
       "      <td>Second Class</td>\n",
       "      <td>CG-12520</td>\n",
       "      <td>Claire Gute</td>\n",
       "      <td>Consumer</td>\n",
       "      <td>United States</td>\n",
       "      <td>Henderson</td>\n",
       "      <td>...</td>\n",
       "      <td>South</td>\n",
       "      <td>FUR-BO-10001798</td>\n",
       "      <td>Furniture</td>\n",
       "      <td>Bookcases</td>\n",
       "      <td>Bush Somerset Collection Bookcase</td>\n",
       "      <td>261.96</td>\n",
       "      <td>261.96</td>\n",
       "      <td>2</td>\n",
       "      <td>0.0</td>\n",
       "      <td>41.9136</td>\n",
       "    </tr>\n",
       "    <tr>\n",
       "      <th>1</th>\n",
       "      <td>2</td>\n",
       "      <td>CA-2016-152156</td>\n",
       "      <td>2016-11-08</td>\n",
       "      <td>2016-11-11</td>\n",
       "      <td>Second Class</td>\n",
       "      <td>CG-12520</td>\n",
       "      <td>Claire Gute</td>\n",
       "      <td>Consumer</td>\n",
       "      <td>United States</td>\n",
       "      <td>Henderson</td>\n",
       "      <td>...</td>\n",
       "      <td>South</td>\n",
       "      <td>FUR-CH-10000454</td>\n",
       "      <td>Furniture</td>\n",
       "      <td>Chairs</td>\n",
       "      <td>Hon Deluxe Fabric Upholstered Stacking Chairs,...</td>\n",
       "      <td>731.94</td>\n",
       "      <td>731.94</td>\n",
       "      <td>3</td>\n",
       "      <td>0.0</td>\n",
       "      <td>219.5820</td>\n",
       "    </tr>\n",
       "  </tbody>\n",
       "</table>\n",
       "<p>2 rows × 22 columns</p>\n",
       "</div>"
      ],
      "text/plain": [
       "   Row ID        Order ID Order Date  Ship Date     Ship Mode Customer ID  \\\n",
       "0       1  CA-2016-152156 2016-11-08 2016-11-11  Second Class    CG-12520   \n",
       "1       2  CA-2016-152156 2016-11-08 2016-11-11  Second Class    CG-12520   \n",
       "\n",
       "  Customer Name   Segment        Country       City  ... Region  \\\n",
       "0   Claire Gute  Consumer  United States  Henderson  ...  South   \n",
       "1   Claire Gute  Consumer  United States  Henderson  ...  South   \n",
       "\n",
       "        Product ID   Category Sub-Category  \\\n",
       "0  FUR-BO-10001798  Furniture    Bookcases   \n",
       "1  FUR-CH-10000454  Furniture       Chairs   \n",
       "\n",
       "                                        Product Name Sales before Discount  \\\n",
       "0                  Bush Somerset Collection Bookcase                261.96   \n",
       "1  Hon Deluxe Fabric Upholstered Stacking Chairs,...                731.94   \n",
       "\n",
       "  Sales After Discount  Quantity  Discount    Profit  \n",
       "0               261.96         2       0.0   41.9136  \n",
       "1               731.94         3       0.0  219.5820  \n",
       "\n",
       "[2 rows x 22 columns]"
      ]
     },
     "execution_count": 137,
     "metadata": {},
     "output_type": "execute_result"
    }
   ],
   "source": [
    "df.head(2)"
   ]
  },
  {
   "cell_type": "code",
   "execution_count": 138,
   "id": "d067d8a2",
   "metadata": {},
   "outputs": [],
   "source": [
    "# Add a column for month"
   ]
  },
  {
   "cell_type": "code",
   "execution_count": 139,
   "id": "3379dc94",
   "metadata": {},
   "outputs": [],
   "source": [
    "df[\"Month_Name\"]= df[\"Order Date\"].dt.month_name()"
   ]
  },
  {
   "cell_type": "code",
   "execution_count": 140,
   "id": "d4190779",
   "metadata": {},
   "outputs": [],
   "source": [
    "pivot2=pd.pivot_table(df, values=[\"Sales before Discount\"], index=[\"Month_Name\"],\n",
    "                     columns=[\"Ship Mode\"], aggfunc={\"Sales before Discount\":'sum'},\n",
    "                     fill_value=0, margins=True, margins_name=\"Grand_Total\")"
   ]
  },
  {
   "cell_type": "code",
   "execution_count": 141,
   "id": "4a38a1c2",
   "metadata": {},
   "outputs": [
    {
     "data": {
      "text/html": [
       "<div>\n",
       "<style scoped>\n",
       "    .dataframe tbody tr th:only-of-type {\n",
       "        vertical-align: middle;\n",
       "    }\n",
       "\n",
       "    .dataframe tbody tr th {\n",
       "        vertical-align: top;\n",
       "    }\n",
       "\n",
       "    .dataframe thead tr th {\n",
       "        text-align: left;\n",
       "    }\n",
       "\n",
       "    .dataframe thead tr:last-of-type th {\n",
       "        text-align: right;\n",
       "    }\n",
       "</style>\n",
       "<table border=\"1\" class=\"dataframe\">\n",
       "  <thead>\n",
       "    <tr>\n",
       "      <th></th>\n",
       "      <th colspan=\"5\" halign=\"left\">Sales before Discount</th>\n",
       "    </tr>\n",
       "    <tr>\n",
       "      <th>Ship Mode</th>\n",
       "      <th>First Class</th>\n",
       "      <th>Same Day</th>\n",
       "      <th>Second Class</th>\n",
       "      <th>Standard Class</th>\n",
       "      <th>Grand_Total</th>\n",
       "    </tr>\n",
       "    <tr>\n",
       "      <th>Month_Name</th>\n",
       "      <th></th>\n",
       "      <th></th>\n",
       "      <th></th>\n",
       "      <th></th>\n",
       "      <th></th>\n",
       "    </tr>\n",
       "  </thead>\n",
       "  <tbody>\n",
       "    <tr>\n",
       "      <th>April</th>\n",
       "      <td>25960.4740</td>\n",
       "      <td>3251.604</td>\n",
       "      <td>21574.7980</td>\n",
       "      <td>8.697525e+04</td>\n",
       "      <td>1.377621e+05</td>\n",
       "    </tr>\n",
       "    <tr>\n",
       "      <th>August</th>\n",
       "      <td>21520.8618</td>\n",
       "      <td>5228.042</td>\n",
       "      <td>35094.6555</td>\n",
       "      <td>9.720050e+04</td>\n",
       "      <td>1.590441e+05</td>\n",
       "    </tr>\n",
       "    <tr>\n",
       "      <th>December</th>\n",
       "      <td>51606.1470</td>\n",
       "      <td>15207.535</td>\n",
       "      <td>75185.2235</td>\n",
       "      <td>1.832946e+05</td>\n",
       "      <td>3.252935e+05</td>\n",
       "    </tr>\n",
       "    <tr>\n",
       "      <th>February</th>\n",
       "      <td>6074.4654</td>\n",
       "      <td>2183.340</td>\n",
       "      <td>19070.7560</td>\n",
       "      <td>2.790280e+04</td>\n",
       "      <td>5.523136e+04</td>\n",
       "    </tr>\n",
       "    <tr>\n",
       "      <th>January</th>\n",
       "      <td>11429.8780</td>\n",
       "      <td>738.689</td>\n",
       "      <td>24543.9766</td>\n",
       "      <td>4.397540e+04</td>\n",
       "      <td>8.068794e+04</td>\n",
       "    </tr>\n",
       "    <tr>\n",
       "      <th>July</th>\n",
       "      <td>19575.2670</td>\n",
       "      <td>15578.667</td>\n",
       "      <td>33790.7350</td>\n",
       "      <td>7.829343e+04</td>\n",
       "      <td>1.472381e+05</td>\n",
       "    </tr>\n",
       "    <tr>\n",
       "      <th>June</th>\n",
       "      <td>26160.1602</td>\n",
       "      <td>7286.437</td>\n",
       "      <td>38394.0950</td>\n",
       "      <td>8.087799e+04</td>\n",
       "      <td>1.527187e+05</td>\n",
       "    </tr>\n",
       "    <tr>\n",
       "      <th>March</th>\n",
       "      <td>42705.4080</td>\n",
       "      <td>8886.398</td>\n",
       "      <td>29444.0030</td>\n",
       "      <td>7.333646e+04</td>\n",
       "      <td>1.543723e+05</td>\n",
       "    </tr>\n",
       "    <tr>\n",
       "      <th>May</th>\n",
       "      <td>16823.1770</td>\n",
       "      <td>8841.015</td>\n",
       "      <td>19870.6974</td>\n",
       "      <td>1.094939e+05</td>\n",
       "      <td>1.550288e+05</td>\n",
       "    </tr>\n",
       "    <tr>\n",
       "      <th>November</th>\n",
       "      <td>41588.3245</td>\n",
       "      <td>24420.648</td>\n",
       "      <td>66477.8778</td>\n",
       "      <td>2.199742e+05</td>\n",
       "      <td>3.524611e+05</td>\n",
       "    </tr>\n",
       "    <tr>\n",
       "      <th>October</th>\n",
       "      <td>49089.3340</td>\n",
       "      <td>14684.092</td>\n",
       "      <td>29540.2520</td>\n",
       "      <td>1.070093e+05</td>\n",
       "      <td>2.003230e+05</td>\n",
       "    </tr>\n",
       "    <tr>\n",
       "      <th>September</th>\n",
       "      <td>35490.3560</td>\n",
       "      <td>20492.117</td>\n",
       "      <td>58172.1616</td>\n",
       "      <td>1.934953e+05</td>\n",
       "      <td>3.076499e+05</td>\n",
       "    </tr>\n",
       "    <tr>\n",
       "      <th>Grand_Total</th>\n",
       "      <td>348023.8529</td>\n",
       "      <td>126798.584</td>\n",
       "      <td>451159.2314</td>\n",
       "      <td>1.301829e+06</td>\n",
       "      <td>2.227811e+06</td>\n",
       "    </tr>\n",
       "  </tbody>\n",
       "</table>\n",
       "</div>"
      ],
      "text/plain": [
       "            Sales before Discount                                          \\\n",
       "Ship Mode             First Class    Same Day Second Class Standard Class   \n",
       "Month_Name                                                                  \n",
       "April                  25960.4740    3251.604   21574.7980   8.697525e+04   \n",
       "August                 21520.8618    5228.042   35094.6555   9.720050e+04   \n",
       "December               51606.1470   15207.535   75185.2235   1.832946e+05   \n",
       "February                6074.4654    2183.340   19070.7560   2.790280e+04   \n",
       "January                11429.8780     738.689   24543.9766   4.397540e+04   \n",
       "July                   19575.2670   15578.667   33790.7350   7.829343e+04   \n",
       "June                   26160.1602    7286.437   38394.0950   8.087799e+04   \n",
       "March                  42705.4080    8886.398   29444.0030   7.333646e+04   \n",
       "May                    16823.1770    8841.015   19870.6974   1.094939e+05   \n",
       "November               41588.3245   24420.648   66477.8778   2.199742e+05   \n",
       "October                49089.3340   14684.092   29540.2520   1.070093e+05   \n",
       "September              35490.3560   20492.117   58172.1616   1.934953e+05   \n",
       "Grand_Total           348023.8529  126798.584  451159.2314   1.301829e+06   \n",
       "\n",
       "                           \n",
       "Ship Mode     Grand_Total  \n",
       "Month_Name                 \n",
       "April        1.377621e+05  \n",
       "August       1.590441e+05  \n",
       "December     3.252935e+05  \n",
       "February     5.523136e+04  \n",
       "January      8.068794e+04  \n",
       "July         1.472381e+05  \n",
       "June         1.527187e+05  \n",
       "March        1.543723e+05  \n",
       "May          1.550288e+05  \n",
       "November     3.524611e+05  \n",
       "October      2.003230e+05  \n",
       "September    3.076499e+05  \n",
       "Grand_Total  2.227811e+06  "
      ]
     },
     "execution_count": 141,
     "metadata": {},
     "output_type": "execute_result"
    }
   ],
   "source": [
    "pivot2"
   ]
  },
  {
   "cell_type": "code",
   "execution_count": 142,
   "id": "7e8bde9f",
   "metadata": {},
   "outputs": [
    {
     "data": {
      "text/plain": [
       "<Worksheet \"P_month_mode\">"
      ]
     },
     "execution_count": 142,
     "metadata": {},
     "output_type": "execute_result"
    }
   ],
   "source": [
    "wkb.create_sheet(\"P_month_mode\")"
   ]
  },
  {
   "cell_type": "code",
   "execution_count": 143,
   "id": "f3767338",
   "metadata": {},
   "outputs": [],
   "source": [
    "monthwiseSales=wkb['P_month_mode']"
   ]
  },
  {
   "cell_type": "code",
   "execution_count": 144,
   "id": "4ff6444e",
   "metadata": {},
   "outputs": [],
   "source": [
    "for row in dataframe_to_rows(pivot2, index=True, header=True):\n",
    "    monthwiseSales.append(row)"
   ]
  },
  {
   "cell_type": "code",
   "execution_count": 145,
   "id": "e607b342",
   "metadata": {},
   "outputs": [
    {
     "data": {
      "text/plain": [
       "['Orders',\n",
       " 'sheet42',\n",
       " 'sheet41',\n",
       " 'sheet4',\n",
       " 'People',\n",
       " 'eDB',\n",
       " 'eDB1',\n",
       " 'eDB2',\n",
       " 'SaleQtyProfit',\n",
       " 'SalesQ',\n",
       " 'P_month_mode']"
      ]
     },
     "execution_count": 145,
     "metadata": {},
     "output_type": "execute_result"
    }
   ],
   "source": [
    "wkb.sheetnames"
   ]
  },
  {
   "cell_type": "code",
   "execution_count": 146,
   "id": "060e57f0",
   "metadata": {},
   "outputs": [],
   "source": [
    "from openpyxl.styles import Font, PatternFill\n",
    "from openpyxl.styles import Alignment"
   ]
  },
  {
   "cell_type": "code",
   "execution_count": 147,
   "id": "42f5edc6",
   "metadata": {},
   "outputs": [],
   "source": [
    "# Apply bold font and background color to the header row\n",
    "for sheet in wkb.sheetnames:\n",
    "    if sheet.startswith(\"P_\"):\n",
    "        for cell in wkb[sheet][1]:\n",
    "            cell.font=Font(color='FF0000', bold=True)\n",
    "            cell.fill=PatternFill(start_color=\"FFFF00\", end_color=\"FFFF00\",fill_type=\"solid\")"
   ]
  },
  {
   "cell_type": "code",
   "execution_count": 148,
   "id": "ae0c7726",
   "metadata": {},
   "outputs": [],
   "source": [
    "wkb.save(\"P_month_mode.xlsx\")"
   ]
  },
  {
   "cell_type": "code",
   "execution_count": 149,
   "id": "b79281fd",
   "metadata": {},
   "outputs": [
    {
     "data": {
      "text/plain": [
       "<Worksheet \"P_month_mode\">"
      ]
     },
     "execution_count": 149,
     "metadata": {},
     "output_type": "execute_result"
    }
   ],
   "source": [
    "wkb[sheet]"
   ]
  },
  {
   "cell_type": "code",
   "execution_count": 150,
   "id": "668cce43",
   "metadata": {},
   "outputs": [],
   "source": [
    "wkb[sheet].merge_cells('A1:F1')\n",
    "wkb[sheet]['A1'] = 'Sales'\n",
    "wkb[sheet]['A1'].alignment= Alignment(horizontal='center', vertical='center')\n",
    "wkb.save(\"superstore_pivot3.xlsx\")"
   ]
  },
  {
   "cell_type": "code",
   "execution_count": null,
   "id": "6a1b4865",
   "metadata": {},
   "outputs": [],
   "source": []
  }
 ],
 "metadata": {
  "kernelspec": {
   "display_name": "Python 3 (ipykernel)",
   "language": "python",
   "name": "python3"
  },
  "language_info": {
   "codemirror_mode": {
    "name": "ipython",
    "version": 3
   },
   "file_extension": ".py",
   "mimetype": "text/x-python",
   "name": "python",
   "nbconvert_exporter": "python",
   "pygments_lexer": "ipython3",
   "version": "3.10.5"
  }
 },
 "nbformat": 4,
 "nbformat_minor": 5
}
